{
 "cells": [
  {
   "cell_type": "code",
   "execution_count": 16,
   "metadata": {},
   "outputs": [
    {
     "name": "stdout",
     "output_type": "stream",
     "text": [
      "The autoreload extension is already loaded. To reload it, use:\n",
      "  %reload_ext autoreload\n"
     ]
    }
   ],
   "source": [
    "import json\n",
    "from pathlib import Path\n",
    "from urllib.parse import urlparse\n",
    "\n",
    "from pydantic_ai import Agent\n",
    "\n",
    "from knd.tools import crawl_url\n",
    "\n",
    "%load_ext autoreload\n",
    "%autoreload 2"
   ]
  },
  {
   "cell_type": "code",
   "execution_count": null,
   "metadata": {},
   "outputs": [],
   "source": []
  },
  {
   "cell_type": "code",
   "execution_count": 9,
   "metadata": {},
   "outputs": [
    {
     "name": "stdout",
     "output_type": "stream",
     "text": [
      "[INIT].... → Crawl4AI 0.4.247\n",
      "[FETCH]... ↓ https://www.nhsjobs.com/job_list?JobSearch_q=&JobS... | Status: True | Time: 0.00s\n",
      "[COMPLETE] ● https://www.nhsjobs.com/job_list?JobSearch_q=&JobS... | Status: True | Total: 0.01s\n",
      "[INIT].... → Crawl4AI 0.4.247\n",
      "[FETCH]... ↓ https://www.nhsjobs.com/job_list?JobSearch_q=&JobS... | Status: True | Time: 0.00s\n",
      "[COMPLETE] ● https://www.nhsjobs.com/job_list?JobSearch_q=&JobS... | Status: True | Total: 0.01s\n",
      "[INIT].... → Crawl4AI 0.4.247\n",
      "[FETCH]... ↓ https://www.nhsjobs.com/job_list?JobSearch_q=&JobS... | Status: True | Time: 5.62s\n",
      "[SCRAPE].. ◆ Processed https://www.nhsjobs.com/job_list?JobSearch_q=&JobS... | Time: 65ms\n",
      "[COMPLETE] ● https://www.nhsjobs.com/job_list?JobSearch_q=&JobS... | Status: True | Total: 5.70s\n",
      "[INIT].... → Crawl4AI 0.4.247\n",
      "[FETCH]... ↓ https://www.nhsjobs.com/job_list?JobSearch_q=&JobS... | Status: True | Time: 3.72s\n",
      "[SCRAPE].. ◆ Processed https://www.nhsjobs.com/job_list?JobSearch_q=&JobS... | Time: 62ms\n",
      "[COMPLETE] ● https://www.nhsjobs.com/job_list?JobSearch_q=&JobS... | Status: True | Total: 3.80s\n"
     ]
    }
   ],
   "source": [
    "def url_filter(url: str) -> bool:\n",
    "    return urlparse(url).path.startswith(\"/job/\")\n",
    "\n",
    "\n",
    "main_url = \"https://www.nhsjobs.com/job_list?JobSearch_q=&JobSearch_d=&JobSearch_g=&JobSearch_re=_POST&JobSearch_re_0=&JobSearch_re_1=-_-_-&JobSearch_re_2=-_-_--_-_-&JobSearch_Submit=Search&_tr=JobSearch&_ts=206601&_pg={page}&_pgid=\"\n",
    "res = {}\n",
    "for page in range(1, 5):\n",
    "    url = main_url.format(page=page)\n",
    "    res.update(await crawl_url(url=url, max_depth=1, max_links=200, url_filter=url_filter))\n",
    "    # res[url] = [_url.replace(\"</\", \"/\") for _url in res.values()]"
   ]
  },
  {
   "cell_type": "code",
   "execution_count": 10,
   "metadata": {},
   "outputs": [
    {
     "data": {
      "text/plain": [
       "124720"
      ]
     },
     "execution_count": 10,
     "metadata": {},
     "output_type": "execute_result"
    }
   ],
   "source": [
    "Path(\"nhsjobs.json\").write_text(json.dumps(res, indent=2))"
   ]
  },
  {
   "cell_type": "code",
   "execution_count": 13,
   "metadata": {},
   "outputs": [
    {
     "data": {
      "text/plain": [
       "120657"
      ]
     },
     "execution_count": 13,
     "metadata": {},
     "output_type": "execute_result"
    }
   ],
   "source": [
    "Path(\"nhsjobs.md\").write_text(\"\\n\\n-----------------\\n\\n\".join(res.values()).replace(\"</\", \"/\"))\n"
   ]
  },
  {
   "cell_type": "code",
   "execution_count": 14,
   "metadata": {},
   "outputs": [],
   "source": [
    "jobs = Path(\"nhsjobs.json\").read_text()"
   ]
  },
  {
   "cell_type": "code",
   "execution_count": 15,
   "metadata": {},
   "outputs": [
    {
     "data": {
      "text/plain": [
       "8082"
      ]
     },
     "execution_count": 15,
     "metadata": {},
     "output_type": "execute_result"
    }
   ],
   "source": [
    "len(jobs.split())"
   ]
  },
  {
   "cell_type": "code",
   "execution_count": 25,
   "metadata": {},
   "outputs": [
    {
     "name": "stderr",
     "output_type": "stream",
     "text": [
      "INFO:httpx:HTTP Request: POST https://generativelanguage.googleapis.com/v1beta/models/gemini-2.0-flash-exp:generateContent \"HTTP/1.1 200 OK\"\n"
     ]
    }
   ],
   "source": [
    "agent = Agent(name=\"jobs_agent\", model=\"google-gla:gemini-2.0-flash-exp\")\n",
    "filtered_jobs = await agent.run(\n",
    "    user_prompt=f\"I only want jobs that are for my level. My level is 'Foundation Year 2'. Return the filtered jobs in a markdown format with the links intact. Remove the images. Just a numbered list of the jobs with the title, any description, and the link. At least 15 jobs.\\n\\nHere are the jobs:\\n{jobs}.\"\n",
    ")\n"
   ]
  },
  {
   "cell_type": "code",
   "execution_count": 26,
   "metadata": {},
   "outputs": [
    {
     "data": {
      "text/plain": [
       "12006"
      ]
     },
     "execution_count": 26,
     "metadata": {},
     "output_type": "execute_result"
    }
   ],
   "source": [
    "Path(\"filtered_jobs_gemini.md\").write_text(filtered_jobs.data)\n",
    "\n"
   ]
  },
  {
   "cell_type": "code",
   "execution_count": null,
   "metadata": {},
   "outputs": [],
   "source": []
  }
 ],
 "metadata": {
  "kernelspec": {
   "display_name": ".venv",
   "language": "python",
   "name": "python3"
  },
  "language_info": {
   "codemirror_mode": {
    "name": "ipython",
    "version": 3
   },
   "file_extension": ".py",
   "mimetype": "text/x-python",
   "name": "python",
   "nbconvert_exporter": "python",
   "pygments_lexer": "ipython3",
   "version": "3.12.7"
  }
 },
 "nbformat": 4,
 "nbformat_minor": 2
}
