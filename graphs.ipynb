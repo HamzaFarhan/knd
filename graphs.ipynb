{
 "cells": [
  {
   "cell_type": "code",
   "execution_count": 1,
   "metadata": {},
   "outputs": [],
   "source": [
    "from __future__ import annotations\n",
    "\n",
    "from dataclasses import dataclass\n",
    "from pathlib import Path\n",
    "from uuid import UUID, uuid4\n",
    "\n",
    "from loguru import logger\n",
    "from pydantic_ai import Agent, RunContext\n",
    "from pydantic_ai import messages as _messages\n",
    "from pydantic_graph import BaseNode, End, Graph, GraphRunContext\n",
    "\n",
    "from knd.memory import AgentExperience, AgentMemories, Memory, Profile, UserSpecificExperience\n",
    "\n",
    "%load_ext autoreload\n",
    "%autoreload 2"
   ]
  },
  {
   "cell_type": "code",
   "execution_count": 2,
   "metadata": {},
   "outputs": [],
   "source": [
    "SUMMARY_LIMIT = 20_000\n",
    "MESSAGE_COUNT_LIMIT = 20\n",
    "MEMORIES_DIR = Path(\"memories\")"
   ]
  },
  {
   "cell_type": "code",
   "execution_count": 3,
   "metadata": {},
   "outputs": [],
   "source": [
    "user_id = uuid4()\n",
    "user_id = UUID(\"db5fe6ca-55ae-4f38-9acf-62d707a46041\")"
   ]
  },
  {
   "cell_type": "code",
   "execution_count": 4,
   "metadata": {},
   "outputs": [],
   "source": [
    "@dataclass\n",
    "class GraphState:\n",
    "    user_id: UUID\n",
    "    agent: Agent[AgentMemories, str]\n",
    "    agent_memories: AgentMemories\n",
    "    memory_agent: Agent\n",
    "\n",
    "\n",
    "@dataclass\n",
    "class Chat(BaseNode[GraphState]):\n",
    "    user_prompt: str\n",
    "\n",
    "    async def run(self, ctx: GraphRunContext[GraphState]) -> CreateUserSpecificExperience:\n",
    "        user_prompt = self.user_prompt\n",
    "        message_history = ctx.state.agent_memories.message_history\n",
    "        while user_prompt.lower() not in [\"q\", \"quit\", \"exit\"]:\n",
    "            res = await ctx.state.agent.run(\n",
    "                user_prompt=user_prompt, deps=ctx.state.agent_memories, message_history=message_history\n",
    "            )\n",
    "            message_history = res.all_messages()\n",
    "            user_prompt = input(f\"{res.data}    (q to quit)> \")\n",
    "        return CreateUserSpecificExperience(message_history=message_history)\n",
    "\n",
    "\n",
    "@dataclass\n",
    "class CreateUserSpecificExperience(BaseNode[GraphState]):\n",
    "    message_history: list[_messages.ModelMessage]\n",
    "\n",
    "    async def run(self, ctx: GraphRunContext[GraphState]) -> CreateAgentExperience:\n",
    "        logger.info(\n",
    "            f\"Creating user specific experience for Agent {ctx.state.agent_memories.agent_name} and User {ctx.state.user_id}\"\n",
    "        )\n",
    "        profile_res = await ctx.state.memory_agent.run(\n",
    "            user_prompt=Profile.user_prompt(), result_type=Profile, message_history=self.message_history\n",
    "        )\n",
    "        profile = profile_res.data\n",
    "        memories_res = await ctx.state.memory_agent.run(\n",
    "            user_prompt=Memory.user_prompt(), result_type=list[Memory], message_history=self.message_history\n",
    "        )\n",
    "        memories = memories_res.data\n",
    "        if ctx.state.agent_memories.user_specific_experience:\n",
    "            memories = ctx.state.agent_memories.user_specific_experience.memories + memories\n",
    "        summary_res = await ctx.state.memory_agent.run(\n",
    "            user_prompt=SUMMARY_PROMPT, result_type=str, message_history=self.message_history\n",
    "        )\n",
    "        summary = summary_res.data\n",
    "        user_specific_experience = UserSpecificExperience(\n",
    "            profile=profile, memories=memories, summary=summary, message_history=self.message_history\n",
    "        )\n",
    "        ctx.state.agent_memories.user_specific_experience = user_specific_experience\n",
    "        return CreateAgentExperience(message_history=self.message_history)\n",
    "\n",
    "\n",
    "@dataclass\n",
    "class CreateAgentExperience(BaseNode[GraphState]):\n",
    "    message_history: list[_messages.ModelMessage]\n",
    "\n",
    "    async def run(self, ctx: GraphRunContext[GraphState]) -> Memorize:\n",
    "        logger.info(\n",
    "            f\"Creating agent experience for Agent {ctx.state.agent_memories.agent_name} and User {ctx.state.user_id}\"\n",
    "        )\n",
    "        agent_experience_res = await ctx.state.memory_agent.run(\n",
    "            user_prompt=AgentExperience.user_prompt(),\n",
    "            result_type=AgentExperience,\n",
    "            message_history=self.message_history,\n",
    "        )\n",
    "        agent_experience = agent_experience_res.data\n",
    "        ctx.state.agent_memories.agent_experience = agent_experience\n",
    "        return Memorize()\n",
    "\n",
    "\n",
    "@dataclass\n",
    "class Memorize(BaseNode[GraphState, None, None]):\n",
    "    async def run(self, ctx: GraphRunContext[GraphState]) -> End:\n",
    "        ctx.state.agent_memories.dump(user_id=user_id, memories_dir=MEMORIES_DIR)\n",
    "        return End(None)\n"
   ]
  },
  {
   "cell_type": "code",
   "execution_count": 4,
   "metadata": {},
   "outputs": [],
   "source": [
    "agent_name = \"anime_fan2\"\n",
    "\n",
    "anime_agent = Agent(\n",
    "    name=agent_name,\n",
    "    model=\"google-gla:gemini-2.0-flash-exp\",\n",
    "    system_prompt=\"You are an anime fan. The user will also be an anime fan. Just bros chilling talking about anime.\",\n",
    "    deps_type=AgentMemories,\n",
    "    result_type=str,\n",
    ")\n"
   ]
  },
  {
   "cell_type": "code",
   "execution_count": 5,
   "metadata": {},
   "outputs": [
    {
     "data": {
      "text/plain": [
       "'anime_fan2'"
      ]
     },
     "execution_count": 5,
     "metadata": {},
     "output_type": "execute_result"
    }
   ],
   "source": [
    "anime_agent.name"
   ]
  },
  {
   "cell_type": "code",
   "execution_count": 5,
   "metadata": {},
   "outputs": [],
   "source": [
    "anime_graph = Graph(nodes=[Chat, CreateUserSpecificExperience, CreateAgentExperience, Memorize])"
   ]
  },
  {
   "cell_type": "code",
   "execution_count": 6,
   "metadata": {},
   "outputs": [],
   "source": [
    "agent_name = \"anime_fan2\"\n",
    "\n",
    "anime_agent = Agent(\n",
    "    name=agent_name,\n",
    "    model=\"google-gla:gemini-2.0-flash-exp\",\n",
    "    system_prompt=\"You are an anime fan. The user will also be an anime fan. Just bros chilling talking about anime.\",\n",
    "    deps_type=AgentMemories,\n",
    "    result_type=str,\n",
    ")\n",
    "\n",
    "\n",
    "@anime_agent.system_prompt(dynamic=True)\n",
    "def system_prompt(ctx: RunContext[AgentMemories]) -> str:\n",
    "    return str(ctx.deps)\n",
    "\n",
    "\n",
    "memory_agent = Agent(name=\"memory_agent\", model=\"google-gla:gemini-1.5-flash\")\n",
    "\n",
    "graph_state = GraphState(\n",
    "    user_id=user_id,\n",
    "    agent=anime_agent,\n",
    "    agent_memories=AgentMemories.load(\n",
    "        agent_name=agent_name, user_id=user_id, memories_dir=MEMORIES_DIR, message_count_limit=MESSAGE_COUNT_LIMIT\n",
    "    ),\n",
    "    memory_agent=memory_agent,\n",
    ")\n"
   ]
  },
  {
   "cell_type": "code",
   "execution_count": null,
   "metadata": {},
   "outputs": [],
   "source": [
    "_, history = await anime_graph.run(Chat(user_prompt=\"hi\"), state=graph_state)"
   ]
  },
  {
   "cell_type": "code",
   "execution_count": null,
   "metadata": {},
   "outputs": [],
   "source": [
    "[item.data_snapshot() for item in history]"
   ]
  },
  {
   "cell_type": "code",
   "execution_count": null,
   "metadata": {},
   "outputs": [],
   "source": [
    "graph_state.agent_memories.message_history"
   ]
  },
  {
   "cell_type": "code",
   "execution_count": null,
   "metadata": {},
   "outputs": [],
   "source": []
  }
 ],
 "metadata": {
  "kernelspec": {
   "display_name": ".venv",
   "language": "python",
   "name": "python3"
  },
  "language_info": {
   "codemirror_mode": {
    "name": "ipython",
    "version": 3
   },
   "file_extension": ".py",
   "mimetype": "text/x-python",
   "name": "python",
   "nbconvert_exporter": "python",
   "pygments_lexer": "ipython3",
   "version": "3.12.7"
  }
 },
 "nbformat": 4,
 "nbformat_minor": 2
}
