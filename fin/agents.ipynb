{
 "cells": [
  {
   "cell_type": "code",
   "execution_count": 1,
   "metadata": {},
   "outputs": [],
   "source": [
    "from dataclasses import dataclass\n",
    "\n",
    "from agent_prompts import CREATE_USER_PROFILE_PROMPT, INVESTOR_ASSISTANT_PROMPT, RISK_ANALYST_PROMPT\n",
    "from pydantic import BaseModel\n",
    "from pydantic_ai import Agent, RunContext\n",
    "from rich.prompt import Prompt\n",
    "\n",
    "from knd.ai import get_messages_for_agent_tool, run_until_completion\n",
    "from knd.prompts import ASSISTANT_PROMPT"
   ]
  },
  {
   "cell_type": "code",
   "execution_count": 2,
   "metadata": {},
   "outputs": [],
   "source": [
    "MODEL = \"google-gla:gemini-1.5-flash\"\n",
    "\n",
    "\n",
    "class UserProfile(BaseModel):\n",
    "    name: str\n",
    "    age: int\n",
    "    investment_goals: str\n",
    "    income: float\n",
    "    # risk_tolerance: Literal[\"conservative\", \"moderate\", \"aggressive\"]\n",
    "    # savings_capacity: float = Field(description=\"The amount of money the user can save each month\")\n",
    "    # financial_knowledge_level: Literal[\"beginner\", \"intermediate\", \"advanced\", \"expert\"]\n",
    "    # investment_experience: str = Field(\n",
    "    #     description=\"Detailed description of user's investment history and experience across different investment types\"\n",
    "    # )\n",
    "    # tax_considerations: str\n",
    "    # life_stage: str = Field(\n",
    "    #     description=\"The current phase of life (e.g., Student, Young Professional, Parent, Pre-retirement, Retired, etc.) that impacts financial planning needs.\"\n",
    "    # )\n",
    "    # obligations: str = Field(\n",
    "    #     description=\"Financial obligations and commitments such as debts, loans, mortgages, or dependent care responsibilities\"\n",
    "    # )\n",
    "\n",
    "\n",
    "@dataclass\n",
    "class FinDeps:\n",
    "    user_profile: UserProfile | None = None\n",
    "\n",
    "\n",
    "investor_assistant = Agent(MODEL, result_type=str, deps_type=FinDeps, system_prompt=INVESTOR_ASSISTANT_PROMPT)\n",
    "user_profile_creator = Agent(\n",
    "    MODEL,\n",
    "    result_type=UserProfile | str,  # type:ignore\n",
    "    deps_type=FinDeps,\n",
    "    system_prompt=CREATE_USER_PROFILE_PROMPT,\n",
    ")\n",
    "risk_analyst = Agent(MODEL, result_type=str, deps_type=FinDeps, system_prompt=RISK_ANALYST_PROMPT)\n",
    "\n",
    "\n",
    "@investor_assistant.system_prompt(dynamic=False)\n",
    "def assistant_prompt() -> str:\n",
    "    prompt = ASSISTANT_PROMPT\n",
    "    # if ctx.deps.user_profile:\n",
    "    #     prompt += f\"\\n\\nUser Profile so far: {ctx.deps.user_profile.model_dump_json()}\"\n",
    "    return prompt\n",
    "\n",
    "\n",
    "@investor_assistant.tool\n",
    "async def create_user_profile(ctx: RunContext[FinDeps]) -> UserProfile:\n",
    "    \"Create a user profile. Must be called before anything else. Start with this tool.\"\n",
    "    print(\"Creating user profile\")\n",
    "    user_prompt = \"generate the user profile\"\n",
    "    messages = await get_messages_for_agent_tool(agent=user_profile_creator, user_prompt=user_prompt, ctx=ctx)  # type: ignore\n",
    "    res = await run_until_completion(\n",
    "        user_prompt=user_prompt,\n",
    "        agent=user_profile_creator,  # type: ignore\n",
    "        message_history=messages,\n",
    "        deps=ctx.deps,\n",
    "    )\n",
    "    ctx.deps.user_profile = res.data  # type: ignore\n",
    "    return res.data  # type: ignore\n",
    "\n",
    "\n",
    "@investor_assistant.tool\n",
    "async def risk_analysis(ctx: RunContext[FinDeps]) -> str:\n",
    "    \"Analyze the risk of the user's investment plan\"\n",
    "    user_prompt = \"analyze the risk of the user's investment plan\"\n",
    "    messages = await get_messages_for_agent_tool(agent=risk_analyst, user_prompt=user_prompt, ctx=ctx)  # type: ignore\n",
    "    res = await risk_analyst.run(user_prompt=user_prompt, deps=ctx.deps, message_history=messages)\n",
    "    return res.data\n"
   ]
  },
  {
   "cell_type": "code",
   "execution_count": null,
   "metadata": {},
   "outputs": [],
   "source": [
    "message_history = None\n",
    "user_prompt = \"hello\"\n",
    "deps = FinDeps()\n",
    "while user_prompt.lower() not in [\"q\", \"quit\", \"exit\"]:\n",
    "    res = await investor_assistant.run(user_prompt=user_prompt, deps=deps, message_history=message_history)\n",
    "    user_prompt = Prompt.ask(res.data)\n",
    "    message_history = res.all_messages()"
   ]
  },
  {
   "cell_type": "code",
   "execution_count": null,
   "metadata": {},
   "outputs": [],
   "source": [
    "res.all_messages()"
   ]
  },
  {
   "cell_type": "code",
   "execution_count": null,
   "metadata": {},
   "outputs": [],
   "source": []
  }
 ],
 "metadata": {
  "kernelspec": {
   "display_name": ".venv",
   "language": "python",
   "name": "python3"
  },
  "language_info": {
   "codemirror_mode": {
    "name": "ipython",
    "version": 3
   },
   "file_extension": ".py",
   "mimetype": "text/x-python",
   "name": "python",
   "nbconvert_exporter": "python",
   "pygments_lexer": "ipython3",
   "version": "3.12.7"
  }
 },
 "nbformat": 4,
 "nbformat_minor": 2
}
