{
 "cells": [
  {
   "cell_type": "code",
   "execution_count": 1,
   "metadata": {},
   "outputs": [],
   "source": [
    "from dataclasses import dataclass\n",
    "\n",
    "from agent_prompts import PROFILE_CREATION_PROMPT\n",
    "from models import UserProfile\n",
    "from pydantic_ai import Agent\n",
    "from rich.prompt import Prompt\n",
    "\n",
    "from knd.ai import run_until_completion\n"
   ]
  },
  {
   "cell_type": "code",
   "execution_count": 3,
   "metadata": {},
   "outputs": [],
   "source": [
    "MODEL = \"google-gla:gemini-1.5-flash\"\n",
    "\n",
    "\n",
    "@dataclass\n",
    "class FinDeps:\n",
    "    user_profile: UserProfile | None = None\n",
    "\n",
    "\n",
    "user_profile_creator = Agent(\n",
    "    MODEL,\n",
    "    result_type=UserProfile | str,  # type:ignore\n",
    "    deps_type=FinDeps,\n",
    "    system_prompt=PROFILE_CREATION_PROMPT,\n",
    ")\n"
   ]
  },
  {
   "cell_type": "code",
   "execution_count": null,
   "metadata": {},
   "outputs": [],
   "source": [
    "message_history = None\n",
    "user_prompt = \"hello\"\n",
    "deps = FinDeps()\n",
    "while user_prompt.lower() not in [\"q\", \"quit\", \"exit\"]:\n",
    "    res = await run_until_completion(\n",
    "        user_prompt=user_prompt,\n",
    "        agent=user_profile_creator,\n",
    "        message_history=message_history,\n",
    "        deps=deps,\n",
    "    )\n",
    "    user_prompt = Prompt.ask(\"Anything else? (q/quit/exit to quit)\")\n",
    "    message_history = res.all_messages()"
   ]
  },
  {
   "cell_type": "code",
   "execution_count": null,
   "metadata": {},
   "outputs": [],
   "source": [
    "res.all_messages()"
   ]
  },
  {
   "cell_type": "code",
   "execution_count": null,
   "metadata": {},
   "outputs": [],
   "source": [
    "res.data.model_dump()"
   ]
  },
  {
   "cell_type": "code",
   "execution_count": null,
   "metadata": {},
   "outputs": [],
   "source": [
    "\"\"\"* **Investment Goal:** Passive Income Generation\n",
    "* **Investment Experience:** No Experience\n",
    "* **Annual Income:** $30,000 - $50,000\n",
    "* **Monthly Investment Capacity:** 25%\n",
    "* **Investment Timeline:** Less than 2 years\n",
    "* **Investment Types of Interest:** Stocks, Mutual Funds\n",
    "* **Reaction to Losses:** Hold and wait\"\"\""
   ]
  }
 ],
 "metadata": {
  "kernelspec": {
   "display_name": ".venv",
   "language": "python",
   "name": "python3"
  },
  "language_info": {
   "codemirror_mode": {
    "name": "ipython",
    "version": 3
   },
   "file_extension": ".py",
   "mimetype": "text/x-python",
   "name": "python",
   "nbconvert_exporter": "python",
   "pygments_lexer": "ipython3",
   "version": "3.12.7"
  }
 },
 "nbformat": 4,
 "nbformat_minor": 2
}
