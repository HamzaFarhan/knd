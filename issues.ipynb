{
 "cells": [
  {
   "cell_type": "code",
   "execution_count": 1,
   "metadata": {},
   "outputs": [],
   "source": [
    "from pydantic import BaseModel, field_validator\n",
    "from pydantic_ai import Agent, RunContext"
   ]
  },
  {
   "cell_type": "code",
   "execution_count": null,
   "metadata": {},
   "outputs": [],
   "source": [
    "async def get_the_meaning_of_life(ctx: RunContext[int]) -> int:\n",
    "    \"\"\"Tool to get the meaning of life\"\"\"\n",
    "    return ctx.deps\n",
    "\n",
    "\n",
    "class MeaningOfLife(BaseModel):\n",
    "    \"\"\"The meaning of life but said in the form of a poem with at least 3 verses\"\"\"\n",
    "\n",
    "    meaning_of_life: str\n",
    "\n",
    "    @field_validator(\"meaning_of_life\")\n",
    "    @classmethod\n",
    "    def check_length(cls, v):\n",
    "        if len(v.split(\"\\n\")) < 3:\n",
    "            raise ValueError(\"The poem must have at least 3 verses\")\n",
    "        return v\n",
    "\n",
    "\n",
    "agent = Agent(\n",
    "    \"openai:gpt-4o-mini\",\n",
    "    result_type=MeaningOfLife,\n",
    "    system_prompt=\"You are searching for the meaning of live.\",\n",
    "    deps_type=int,\n",
    "    tools=[get_the_meaning_of_life],\n",
    "    end_strategy=\"exhaustive\",\n",
    ")\n",
    "res = await agent.run(\"So what's the answer?\", deps=100)"
   ]
  },
  {
   "cell_type": "code",
   "execution_count": null,
   "metadata": {},
   "outputs": [],
   "source": [
    "res"
   ]
  },
  {
   "cell_type": "code",
   "execution_count": null,
   "metadata": {},
   "outputs": [],
   "source": [
    "res.all_messages()"
   ]
  },
  {
   "cell_type": "code",
   "execution_count": null,
   "metadata": {},
   "outputs": [],
   "source": []
  }
 ],
 "metadata": {
  "kernelspec": {
   "display_name": ".venv",
   "language": "python",
   "name": "python3"
  },
  "language_info": {
   "codemirror_mode": {
    "name": "ipython",
    "version": 3
   },
   "file_extension": ".py",
   "mimetype": "text/x-python",
   "name": "python",
   "nbconvert_exporter": "python",
   "pygments_lexer": "ipython3",
   "version": "3.12.7"
  }
 },
 "nbformat": 4,
 "nbformat_minor": 2
}
