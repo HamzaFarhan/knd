{
 "cells": [
  {
   "cell_type": "code",
   "execution_count": 2,
   "metadata": {},
   "outputs": [
    {
     "name": "stdout",
     "output_type": "stream",
     "text": [
      "The autoreload extension is already loaded. To reload it, use:\n",
      "  %reload_ext autoreload\n"
     ]
    }
   ],
   "source": [
    "from enum import StrEnum\n",
    "\n",
    "from pydantic import BaseModel, Field\n",
    "from pydantic_ai import Agent,RunContext\n",
    "\n",
    "%load_ext autoreload\n",
    "%autoreload 2"
   ]
  },
  {
   "cell_type": "code",
   "execution_count": null,
   "metadata": {},
   "outputs": [],
   "source": [
    "Without Graph:\n",
    "1. Tool A does something that writes do DB"
   ]
  },
  {
   "cell_type": "code",
   "execution_count": 5,
   "metadata": {},
   "outputs": [],
   "source": [
    "\n",
    "\n",
    "\n",
    "def greeting() -> str:\n",
    "    \"\"\"greeting Hello, This tool is to say 'Hello'.\"\"\"\n",
    "    print(\"*********** Called function say_hello .\")\n",
    "    return \"hey brooo\"\n",
    "\n",
    "\n",
    "# Create an agent\n",
    "agent = Agent(\n",
    "    model=\"google-gla:gemini-2.0-flash-exp\",\n",
    "    system_prompt=(\n",
    "        \"You are a very friendly assistant. Always use the `greeting` function to start the response \"\n",
    "        \"Do not add any extra text or explanations.\"\n",
    "    ),\n",
    "    tools=[greeting],\n",
    ")"
   ]
  },
  {
   "cell_type": "code",
   "execution_count": 6,
   "metadata": {},
   "outputs": [],
   "source": [
    "res = await agent.run(\"hellooo\")"
   ]
  },
  {
   "cell_type": "code",
   "execution_count": 7,
   "metadata": {},
   "outputs": [
    {
     "data": {
      "text/plain": [
       "[ModelRequest(parts=[SystemPromptPart(content='You are a very friendly assistant. Always use the `greeting` function to start the response Do not add any extra text or explanations.', dynamic_ref=None, part_kind='system-prompt'), UserPromptPart(content='hellooo', timestamp=datetime.datetime(2025, 1, 27, 8, 36, 17, 117837, tzinfo=datetime.timezone.utc), part_kind='user-prompt')], kind='request'),\n",
       " ModelResponse(parts=[ToolCallPart(tool_name='greeting', args=ArgsDict(args_dict={}), tool_call_id=None, part_kind='tool-call')], model_name='gemini-2.0-flash-exp', timestamp=datetime.datetime(2025, 1, 27, 8, 36, 18, 783322, tzinfo=datetime.timezone.utc), kind='response'),\n",
       " ModelRequest(parts=[ToolReturnPart(tool_name='greeting', content='hey brooo', tool_call_id=None, timestamp=datetime.datetime(2025, 1, 27, 8, 36, 18, 786157, tzinfo=datetime.timezone.utc), part_kind='tool-return')], kind='request'),\n",
       " ModelResponse(parts=[TextPart(content='hey brooo\\n', part_kind='text')], model_name='gemini-2.0-flash-exp', timestamp=datetime.datetime(2025, 1, 27, 8, 36, 19, 465497, tzinfo=datetime.timezone.utc), kind='response')]"
      ]
     },
     "execution_count": 7,
     "metadata": {},
     "output_type": "execute_result"
    }
   ],
   "source": [
    "res.all_messages()"
   ]
  },
  {
   "cell_type": "code",
   "execution_count": 8,
   "metadata": {},
   "outputs": [
    {
     "data": {
      "text/plain": [
       "'hey brooo\\n'"
      ]
     },
     "execution_count": 8,
     "metadata": {},
     "output_type": "execute_result"
    }
   ],
   "source": [
    "res.data"
   ]
  },
  {
   "cell_type": "code",
   "execution_count": null,
   "metadata": {},
   "outputs": [],
   "source": []
  }
 ],
 "metadata": {
  "kernelspec": {
   "display_name": ".venv",
   "language": "python",
   "name": "python3"
  },
  "language_info": {
   "codemirror_mode": {
    "name": "ipython",
    "version": 3
   },
   "file_extension": ".py",
   "mimetype": "text/x-python",
   "name": "python",
   "nbconvert_exporter": "python",
   "pygments_lexer": "ipython3",
   "version": "3.12.7"
  }
 },
 "nbformat": 4,
 "nbformat_minor": 2
}
