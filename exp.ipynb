{
 "cells": [
  {
   "cell_type": "code",
   "execution_count": 1,
   "metadata": {},
   "outputs": [],
   "source": [
    "from dataclasses import dataclass, field\n",
    "from typing import Literal\n",
    "\n",
    "from pydantic import BaseModel\n",
    "from pydantic_ai import Agent, RunContext\n",
    "from rich.prompt import Prompt\n",
    "\n",
    "from knd.prompts import ASSISTANT_PROMPT\n",
    "from knd.result_types import TaskSpecificExperience\n"
   ]
  },
  {
   "cell_type": "code",
   "execution_count": 2,
   "metadata": {},
   "outputs": [],
   "source": [
    "MODEL = \"openai:gpt-4o-mini\"\n",
    "\n",
    "\n",
    "class Profile(BaseModel):\n",
    "    name: str\n",
    "    age: int\n",
    "    gender: Literal[\"male\", \"female\", \"other\"]\n",
    "\n",
    "\n",
    "@dataclass\n",
    "class Task:\n",
    "    tse: TaskSpecificExperience | None = None\n",
    "    inner_monologue: list[str] = field(default_factory=list)\n",
    "\n",
    "\n",
    "agent = Agent(\n",
    "    MODEL,\n",
    "    result_type=Profile | str,  # type: ignore\n",
    "    deps_type=Task,\n",
    "    system_prompt=\"Generate a profile for the user. The profile should have name, age, gender. If you need more information, ask the user. Once the profile is complete, return the profile.\",\n",
    ")\n",
    "\n",
    "\n",
    "@agent.tool\n",
    "async def contemplate(ctx: RunContext[Task], inner_monologue: str):\n",
    "    \"Contemplate and write down your thoughts in the inner monologue. Must be called before each step\"\n",
    "    ctx.deps.inner_monologue.append(inner_monologue)\n",
    "    # return f\"Inner Monologue: {ctx.deps.inner_monologue}\"\n",
    "\n",
    "\n",
    "@agent.tool\n",
    "async def extract_task_specific_experience(ctx: RunContext[Task], tse: TaskSpecificExperience):\n",
    "    \"Extract and save the task specific experience. MUST be called before the profile is returned using the `final_result` tool\"\n",
    "    ctx.deps.tse = tse\n",
    "    # return \"Task Specific Experience extracted and saved\"\n",
    "\n",
    "\n",
    "@agent.tool\n",
    "def get_weather(\n",
    "    ctx: RunContext[Task],\n",
    "    day: Literal[\"Monday\", \"Tuesday\", \"Wednesday\", \"Thursday\", \"Friday\", \"Saturday\", \"Sunday\"],\n",
    "    location: str,\n",
    ") -> str:\n",
    "    \"Get the weather at a day in a location\"\n",
    "    print(f\"\\n\\nMessage history: {ctx.messages}\")\n",
    "    if day == \"Monday\" and location.lower() == \"blackpool\":\n",
    "        return \"It's raining\"\n",
    "    elif day == \"Tuesday\" and location.lower() == \"london\":\n",
    "        return \"It's sunny\"\n",
    "    elif day == \"Wednesday\" and location.lower() == \"manchester\":\n",
    "        return \"It's cloudy\"\n",
    "    elif day == \"Thursday\" and location.lower() == \"new york\":\n",
    "        return \"It's snowing\"\n",
    "    else:\n",
    "        return \"It's overcast\"\n",
    "\n",
    "\n",
    "@agent.result_validator  # type: ignore\n",
    "async def result_validator(ctx: RunContext[Task], result: Profile | str) -> Profile | str:\n",
    "    print(f\"\\n\\nMessage history in result validator: {ctx.messages}\")\n",
    "    print(f\"\\n\\nFunction Tools: {agent._function_tools}\")\n",
    "    print(f\"\\n\\nUsage: {ctx.usage}\")\n",
    "    return result\n",
    "\n",
    "\n",
    "@agent.system_prompt(dynamic=True)\n",
    "def assistant_prompt(ctx: RunContext[Task]) -> str:\n",
    "    prompt = ASSISTANT_PROMPT\n",
    "    if ctx.deps.tse:\n",
    "        prompt += f\"\\n\\nTask Specific Experience So Far: {ctx.deps.tse.model_dump_json()}\"\n",
    "    if ctx.deps.inner_monologue:\n",
    "        prompt += f\"\\n\\nInner Monologue So Far: {ctx.deps.inner_monologue}\"\n",
    "    return prompt\n"
   ]
  },
  {
   "cell_type": "code",
   "execution_count": null,
   "metadata": {},
   "outputs": [],
   "source": [
    "message_history = None\n",
    "user_prompt = \"hello\"\n",
    "deps = Task()\n",
    "while True:\n",
    "    res = await agent.run(user_prompt=user_prompt, deps=deps, message_history=message_history)\n",
    "    profile = res.data\n",
    "    if isinstance(profile, str):\n",
    "        user_prompt = Prompt.ask(profile)\n",
    "        message_history = res.all_messages()\n",
    "    else:\n",
    "        break"
   ]
  },
  {
   "cell_type": "code",
   "execution_count": null,
   "metadata": {},
   "outputs": [],
   "source": [
    "res.all_messages()"
   ]
  },
  {
   "cell_type": "code",
   "execution_count": null,
   "metadata": {},
   "outputs": [],
   "source": [
    "deps.inner_monologue"
   ]
  },
  {
   "cell_type": "code",
   "execution_count": null,
   "metadata": {},
   "outputs": [],
   "source": [
    "deps.tse.model_dump()"
   ]
  },
  {
   "cell_type": "code",
   "execution_count": null,
   "metadata": {},
   "outputs": [],
   "source": []
  }
 ],
 "metadata": {
  "kernelspec": {
   "display_name": ".venv",
   "language": "python",
   "name": "python3"
  },
  "language_info": {
   "codemirror_mode": {
    "name": "ipython",
    "version": 3
   },
   "file_extension": ".py",
   "mimetype": "text/x-python",
   "name": "python",
   "nbconvert_exporter": "python",
   "pygments_lexer": "ipython3",
   "version": "3.12.7"
  }
 },
 "nbformat": 4,
 "nbformat_minor": 2
}
