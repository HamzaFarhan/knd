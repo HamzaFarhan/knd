{
 "cells": [
  {
   "cell_type": "code",
   "execution_count": 24,
   "metadata": {},
   "outputs": [
    {
     "name": "stdout",
     "output_type": "stream",
     "text": [
      "The autoreload extension is already loaded. To reload it, use:\n",
      "  %reload_ext autoreload\n"
     ]
    }
   ],
   "source": [
    "from datetime import datetime\n",
    "from pathlib import Path\n",
    "\n",
    "from pydantic_ai import Agent\n",
    "from pydantic_ai import messages as _messages\n",
    "from pydantic_graph import End\n",
    "\n",
    "%load_ext autoreload\n",
    "%autoreload 2"
   ]
  },
  {
   "cell_type": "code",
   "execution_count": 12,
   "metadata": {},
   "outputs": [],
   "source": [
    "agent = Agent(model=\"google-gla:gemini-2.0-flash\")\n",
    "\n",
    "\n",
    "@agent.tool_plain\n",
    "def get_current_date() -> str:\n",
    "    \"Get today's date\"\n",
    "\n",
    "    return datetime.now().strftime(\"%d-%m-%Y\")\n",
    "\n",
    "\n",
    "date_formatter = Agent(\n",
    "    model=\"google-gla:gemini-2.0-flash\",\n",
    "    system_prompt=(\n",
    "        \"Given a date in 'dd-mm-yyyy' format, reformat it to plain english.\\n\"\n",
    "        \"For example: 01-01-2025 -> January first, two thousand and twenty five\"\n",
    "    ),\n",
    ")"
   ]
  },
  {
   "cell_type": "code",
   "execution_count": 28,
   "metadata": {},
   "outputs": [],
   "source": [
    "async with agent.iter(user_prompt=\"is tomorrow valentine's day?\") as agent_run:\n",
    "    node = agent_run.next_node\n",
    "    all_nodes = [node]\n",
    "    node_index = 1\n",
    "    while not isinstance(node, End):\n",
    "        node = await agent_run.next(node)\n",
    "        if agent.is_model_request_node(node) and agent.is_call_tools_node(all_nodes[node_index - 1]):\n",
    "            for part in node.request.parts:\n",
    "                if isinstance(part, _messages.ToolReturnPart) and part.tool_name == \"get_current_date\":\n",
    "                    part.content = (await date_formatter.run(user_prompt=f\"Date: {part.content}\")).data\n",
    "        all_nodes.append(node)\n",
    "        node_index += 1"
   ]
  },
  {
   "cell_type": "code",
   "execution_count": 29,
   "metadata": {},
   "outputs": [
    {
     "name": "stdout",
     "output_type": "stream",
     "text": [
      "No, tomorrow is March 13, 2025, so it is not Valentine's Day. Valentine's Day is on February 14th.\n",
      "\n"
     ]
    }
   ],
   "source": [
    "print(agent_run.result.data)"
   ]
  },
  {
   "cell_type": "code",
   "execution_count": 30,
   "metadata": {},
   "outputs": [
    {
     "data": {
      "text/plain": [
       "[ModelRequest(parts=[UserPromptPart(content=\"is tomorrow valentine's day?\", timestamp=datetime.datetime(2025, 3, 11, 19, 20, 23, 776116, tzinfo=datetime.timezone.utc), part_kind='user-prompt')], kind='request'),\n",
       " ModelResponse(parts=[ToolCallPart(tool_name='get_current_date', args={}, tool_call_id=None, part_kind='tool-call')], model_name='gemini-2.0-flash', timestamp=datetime.datetime(2025, 3, 11, 19, 20, 26, 103994, tzinfo=datetime.timezone.utc), kind='response'),\n",
       " ModelRequest(parts=[ToolReturnPart(tool_name='get_current_date', content='March twelfth, two thousand and twenty five\\n', tool_call_id=None, timestamp=datetime.datetime(2025, 3, 11, 19, 20, 26, 105605, tzinfo=datetime.timezone.utc), part_kind='tool-return')], kind='request'),\n",
       " ModelResponse(parts=[TextPart(content=\"No, tomorrow is March 13, 2025, so it is not Valentine's Day. Valentine's Day is on February 14th.\\n\", part_kind='text')], model_name='gemini-2.0-flash', timestamp=datetime.datetime(2025, 3, 11, 19, 20, 27, 785792, tzinfo=datetime.timezone.utc), kind='response')]"
      ]
     },
     "execution_count": 30,
     "metadata": {},
     "output_type": "execute_result"
    }
   ],
   "source": [
    "agent_run.ctx.state.message_history"
   ]
  },
  {
   "cell_type": "code",
   "execution_count": 27,
   "metadata": {},
   "outputs": [
    {
     "data": {
      "text/plain": [
       "1091"
      ]
     },
     "execution_count": 27,
     "metadata": {},
     "output_type": "execute_result"
    }
   ],
   "source": [
    "Path(\"val.json\").write_bytes(\n",
    "    _messages.ModelMessagesTypeAdapter.dump_json(agent_run.ctx.state.message_history, indent=2)\n",
    ")"
   ]
  },
  {
   "cell_type": "code",
   "execution_count": 31,
   "metadata": {},
   "outputs": [
    {
     "data": {
      "text/plain": [
       "[UserPromptNode(user_prompt=\"is tomorrow valentine's day?\", system_prompts=(), system_prompt_functions=[], system_prompt_dynamic_functions={}),\n",
       " ModelRequestNode(request=ModelRequest(parts=[UserPromptPart(content=\"is tomorrow valentine's day?\", timestamp=datetime.datetime(2025, 3, 11, 19, 20, 23, 776116, tzinfo=datetime.timezone.utc), part_kind='user-prompt')], kind='request')),\n",
       " CallToolsNode(model_response=ModelResponse(parts=[ToolCallPart(tool_name='get_current_date', args={}, tool_call_id=None, part_kind='tool-call')], model_name='gemini-2.0-flash', timestamp=datetime.datetime(2025, 3, 11, 19, 20, 26, 103994, tzinfo=datetime.timezone.utc), kind='response')),\n",
       " ModelRequestNode(request=ModelRequest(parts=[ToolReturnPart(tool_name='get_current_date', content='March twelfth, two thousand and twenty five\\n', tool_call_id=None, timestamp=datetime.datetime(2025, 3, 11, 19, 20, 26, 105605, tzinfo=datetime.timezone.utc), part_kind='tool-return')], kind='request')),\n",
       " CallToolsNode(model_response=ModelResponse(parts=[TextPart(content=\"No, tomorrow is March 13, 2025, so it is not Valentine's Day. Valentine's Day is on February 14th.\\n\", part_kind='text')], model_name='gemini-2.0-flash', timestamp=datetime.datetime(2025, 3, 11, 19, 20, 27, 785792, tzinfo=datetime.timezone.utc), kind='response')),\n",
       " End(data=FinalResult(data=\"No, tomorrow is March 13, 2025, so it is not Valentine's Day. Valentine's Day is on February 14th.\\n\", tool_name=None, tool_call_id=None))]"
      ]
     },
     "execution_count": 31,
     "metadata": {},
     "output_type": "execute_result"
    }
   ],
   "source": [
    "all_nodes"
   ]
  }
 ],
 "metadata": {
  "kernelspec": {
   "display_name": ".venv",
   "language": "python",
   "name": "python3"
  },
  "language_info": {
   "codemirror_mode": {
    "name": "ipython",
    "version": 3
   },
   "file_extension": ".py",
   "mimetype": "text/x-python",
   "name": "python",
   "nbconvert_exporter": "python",
   "pygments_lexer": "ipython3",
   "version": "3.12.7"
  }
 },
 "nbformat": 4,
 "nbformat_minor": 2
}
