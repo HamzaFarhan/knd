{
 "cells": [
  {
   "cell_type": "code",
   "execution_count": 1,
   "metadata": {},
   "outputs": [],
   "source": [
    "from __future__ import annotations as _annotations\n",
    "\n",
    "from dataclasses import dataclass\n",
    "from pathlib import Path\n",
    "\n",
    "from pydantic_graph import BaseNode, End, Graph, GraphRunContext\n",
    "from pydantic_graph.persistence.file import FileStatePersistence\n",
    "\n",
    "%load_ext autoreload\n",
    "%autoreload 2"
   ]
  },
  {
   "cell_type": "code",
   "execution_count": 2,
   "metadata": {},
   "outputs": [],
   "source": [
    "@dataclass\n",
    "class CountDownState:\n",
    "    counter: int\n",
    "\n",
    "\n",
    "@dataclass\n",
    "class CountDown(BaseNode[CountDownState, None, int]):\n",
    "    async def run(self, ctx: GraphRunContext[CountDownState]) -> CountDown | End[int]:\n",
    "        if ctx.state.counter <= 0:\n",
    "            return End(ctx.state.counter)\n",
    "        ctx.state.counter -= 1\n",
    "        return CountDown()\n",
    "\n",
    "\n",
    "@dataclass\n",
    "class CountUp(BaseNode[CountDownState, None, int]):\n",
    "    async def run(self, ctx: GraphRunContext[CountDownState]) -> CountDown | End[int]:\n",
    "        ctx.state.counter += 1\n",
    "        return CountDown()\n",
    "\n",
    "\n",
    "count_down_graph = Graph(nodes=[CountDown, CountUp], auto_instrument=False)\n"
   ]
  },
  {
   "cell_type": "code",
   "execution_count": 6,
   "metadata": {},
   "outputs": [],
   "source": [
    "run_id = \"run_2\"\n",
    "persistence = FileStatePersistence(Path(f\"count_down_{run_id}.json\"))\n",
    "state = CountDownState(counter=5)\n",
    "# await count_down_graph.initialize(Coun(), state=state, persistence=persistence)"
   ]
  },
  {
   "cell_type": "code",
   "execution_count": 10,
   "metadata": {},
   "outputs": [
    {
     "name": "stdout",
     "output_type": "stream",
     "text": [
      "CountDown()\n",
      "CountDown()\n",
      "End(data=0)\n"
     ]
    }
   ],
   "source": [
    "async with count_down_graph.iter(CountUp(), state=state, persistence=persistence) as run:\n",
    "    async for node in run:\n",
    "        print(node)"
   ]
  },
  {
   "cell_type": "code",
   "execution_count": 11,
   "metadata": {},
   "outputs": [
    {
     "data": {
      "text/plain": [
       "[NodeSnapshot(state=CountDownState(counter=5), node=CountUp(), start_ts=datetime.datetime(2025, 3, 18, 5, 53, 33, 242302, tzinfo=TzInfo(UTC)), duration=6.062036845833063e-06, status='success', kind='node', id='CountUp:9787ab7269894ba99fbb86f04ef5a618'),\n",
       " NodeSnapshot(state=CountDownState(counter=6), node=CountDown(), start_ts=datetime.datetime(2025, 3, 18, 5, 53, 33, 244172, tzinfo=TzInfo(UTC)), duration=4.243047442287207e-06, status='success', kind='node', id='CountDown:14690e0fee4947eaa10d364591c758c1'),\n",
       " NodeSnapshot(state=CountDownState(counter=5), node=CountDown(), start_ts=datetime.datetime(2025, 3, 18, 5, 53, 33, 245710, tzinfo=TzInfo(UTC)), duration=3.29798785969615e-06, status='success', kind='node', id='CountDown:975a587e35284ee1815f62bef25e3662'),\n",
       " NodeSnapshot(state=CountDownState(counter=4), node=CountDown(), start_ts=datetime.datetime(2025, 3, 18, 5, 53, 33, 247361, tzinfo=TzInfo(UTC)), duration=2.5129993446171284e-06, status='success', kind='node', id='CountDown:448d33f639f6445fb63280b47599969c'),\n",
       " NodeSnapshot(state=CountDownState(counter=3), node=CountDown(), start_ts=datetime.datetime(2025, 3, 18, 5, 53, 33, 249031, tzinfo=TzInfo(UTC)), duration=2.86102294921875e-06, status='success', kind='node', id='CountDown:9c02ab1208774b15958b02c0417914b5'),\n",
       " NodeSnapshot(state=CountDownState(counter=2), node=CountDown(), start_ts=datetime.datetime(2025, 3, 18, 5, 53, 33, 250739, tzinfo=TzInfo(UTC)), duration=3.011955413967371e-06, status='success', kind='node', id='CountDown:aed1f9fab10a423fa6bc6526d74ebb53'),\n",
       " NodeSnapshot(state=CountDownState(counter=1), node=CountDown(), start_ts=datetime.datetime(2025, 3, 18, 5, 53, 33, 252256, tzinfo=TzInfo(UTC)), duration=2.4469918571412563e-06, status='success', kind='node', id='CountDown:834f7235c4d84d34b459c9d7d897af8d'),\n",
       " NodeSnapshot(state=CountDownState(counter=0), node=CountDown(), start_ts=datetime.datetime(2025, 3, 18, 5, 53, 33, 253826, tzinfo=TzInfo(UTC)), duration=4.471978172659874e-06, status='success', kind='node', id='CountDown:7193301089d74d2a8adf4d81d6257857'),\n",
       " EndSnapshot(state=CountDownState(counter=0), result=End(data=0), ts=datetime.datetime(2025, 3, 18, 5, 53, 33, 254624, tzinfo=TzInfo(UTC)), kind='end', id='end:0e0d8cb941204208bfcfae567dea2dcf'),\n",
       " NodeSnapshot(state=CountDownState(counter=0), node=CountUp(), start_ts=datetime.datetime(2025, 3, 18, 5, 53, 47, 47993, tzinfo=TzInfo(UTC)), duration=9.326962754130363e-06, status='success', kind='node', id='CountUp:25ac5cddb2c0485182a67df6f28af44f'),\n",
       " NodeSnapshot(state=CountDownState(counter=1), node=CountDown(), start_ts=datetime.datetime(2025, 3, 18, 5, 53, 47, 59367, tzinfo=TzInfo(UTC)), duration=6.337999366223812e-06, status='success', kind='node', id='CountDown:e0895b8bbbd744768bdee3a4cd103a7c'),\n",
       " NodeSnapshot(state=CountDownState(counter=0), node=CountDown(), start_ts=datetime.datetime(2025, 3, 18, 5, 53, 47, 64703, tzinfo=TzInfo(UTC)), duration=7.627997547388077e-06, status='success', kind='node', id='CountDown:d3f4b1dfbd0340ea87550aadff67ae1b'),\n",
       " EndSnapshot(state=CountDownState(counter=0), result=End(data=0), ts=datetime.datetime(2025, 3, 18, 5, 53, 47, 68951, tzinfo=TzInfo(UTC)), kind='end', id='end:1d436fe3c76b45a88e86c4ce1f43acb7')]"
      ]
     },
     "execution_count": 11,
     "metadata": {},
     "output_type": "execute_result"
    }
   ],
   "source": [
    "(await persistence.load_all())\n"
   ]
  },
  {
   "cell_type": "code",
   "execution_count": null,
   "metadata": {},
   "outputs": [],
   "source": []
  }
 ],
 "metadata": {
  "kernelspec": {
   "display_name": ".venv",
   "language": "python",
   "name": "python3"
  },
  "language_info": {
   "codemirror_mode": {
    "name": "ipython",
    "version": 3
   },
   "file_extension": ".py",
   "mimetype": "text/x-python",
   "name": "python",
   "nbconvert_exporter": "python",
   "pygments_lexer": "ipython3",
   "version": "3.12.7"
  }
 },
 "nbformat": 4,
 "nbformat_minor": 2
}
