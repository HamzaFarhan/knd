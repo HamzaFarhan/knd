{
 "cells": [
  {
   "cell_type": "code",
   "execution_count": 1,
   "metadata": {},
   "outputs": [],
   "source": [
    "from types import UnionType\n",
    "from typing import Any\n",
    "\n",
    "from pydantic import BaseModel, Field, create_model\n",
    "from pydantic_ai import Agent\n",
    "\n",
    "%load_ext autoreload\n",
    "%autoreload 2"
   ]
  },
  {
   "cell_type": "code",
   "execution_count": 19,
   "metadata": {},
   "outputs": [],
   "source": [
    "class model(BaseModel):\n",
    "    email: \"string\"\n"
   ]
  },
  {
   "cell_type": "code",
   "execution_count": 20,
   "metadata": {},
   "outputs": [
    {
     "ename": "PydanticUserError",
     "evalue": "`model` is not fully defined; you should define `string`, then call `model.model_rebuild()`.\n\nFor further information visit https://errors.pydantic.dev/2.10/u/class-not-fully-defined",
     "output_type": "error",
     "traceback": [
      "\u001b[31m---------------------------------------------------------------------------\u001b[39m",
      "\u001b[31mPydanticUserError\u001b[39m                         Traceback (most recent call last)",
      "\u001b[36mCell\u001b[39m\u001b[36m \u001b[39m\u001b[32mIn[20]\u001b[39m\u001b[32m, line 1\u001b[39m\n\u001b[32m----> \u001b[39m\u001b[32m1\u001b[39m m = \u001b[43mmodel\u001b[49m\u001b[43m(\u001b[49m\u001b[43memail\u001b[49m\u001b[43m=\u001b[49m\u001b[33;43m\"\u001b[39;49m\u001b[33;43mtest@test.com\u001b[39;49m\u001b[33;43m\"\u001b[39;49m\u001b[43m)\u001b[49m\n\u001b[32m      2\u001b[39m m.model_dump_json()\n",
      "    \u001b[31m[... skipping hidden 1 frame]\u001b[39m\n",
      "\u001b[36mFile \u001b[39m\u001b[32m~/dev/knd/.venv/lib/python3.12/site-packages/pydantic/_internal/_mock_val_ser.py:100\u001b[39m, in \u001b[36mMockValSer.__getattr__\u001b[39m\u001b[34m(self, item)\u001b[39m\n\u001b[32m     98\u001b[39m \u001b[38;5;66;03m# raise an AttributeError if `item` doesn't exist\u001b[39;00m\n\u001b[32m     99\u001b[39m \u001b[38;5;28mgetattr\u001b[39m(\u001b[38;5;28mself\u001b[39m._val_or_ser, item)\n\u001b[32m--> \u001b[39m\u001b[32m100\u001b[39m \u001b[38;5;28;01mraise\u001b[39;00m PydanticUserError(\u001b[38;5;28mself\u001b[39m._error_message, code=\u001b[38;5;28mself\u001b[39m._code)\n",
      "\u001b[31mPydanticUserError\u001b[39m: `model` is not fully defined; you should define `string`, then call `model.model_rebuild()`.\n\nFor further information visit https://errors.pydantic.dev/2.10/u/class-not-fully-defined"
     ]
    }
   ],
   "source": [
    "m = model(email=\"test@test.com\")\n",
    "m.model_dump_json()\n"
   ]
  },
  {
   "cell_type": "code",
   "execution_count": null,
   "metadata": {},
   "outputs": [],
   "source": [
    "DynamicFoobarModel = create_model(\"DynamicFoobarModel\", **{\"foo\": (str, ...), \"bar\": (int, 123)})"
   ]
  },
  {
   "cell_type": "code",
   "execution_count": null,
   "metadata": {},
   "outputs": [],
   "source": [
    "class FormField(BaseModel):\n",
    "    name: str\n",
    "    type: str = Field(description=\"The type of the field. For example: string, integer, float, boolean, etc.\")\n",
    "    required: bool = True\n",
    "\n",
    "    description: str | None = None\n",
    "\n",
    "\n",
    "class FormSpec(BaseModel):\n",
    "    title: str\n",
    "    fields: list[FormField]\n",
    "\n",
    "\n",
    "def create_dynamic_model(form_spec: FormSpec) -> type[BaseModel]:\n",
    "    field_types: dict[str, tuple[type | UnionType, Any]] = {}\n",
    "\n",
    "    for field in form_spec.fields:\n",
    "        # Map string type names to actual Python types\n",
    "        type_map = {\n",
    "            \"string\": (str, ...),\n",
    "            \"integer\": (int, ...),\n",
    "            \"float\": (float, ...),\n",
    "            \"boolean\": (bool, ...),\n",
    "        }\n",
    "        field_type = type_map.get(field.type, (str, ...))\n",
    "\n",
    "        if field.required:\n",
    "            field_types[field.name] = field_type\n",
    "        else:\n",
    "            field_types[field.name] = (field_type[0] | None, None)\n",
    "\n",
    "    # Create the model dynamically\n",
    "    return create_model(form_spec.title, **field_types)\n",
    "\n",
    "\n",
    "form_designer_agent = Agent(\n",
    "    model=\"google-gla:gemini-2.0-flash\",\n",
    "    name=\"form_designer\",\n",
    "    system_prompt=(\n",
    "        \"You are a form designer. Help the user create a form by collecting field information.\\n\"\n",
    "        \"For each field, ask whether it's required.\\n\"\n",
    "        \"Set the name and data type (string, integer, float, boolean, etc.), yourself.\\n\"\n",
    "        \"Once you have all the information, verify the form with the user.\\n\"\n",
    "        \"Verifying means also verifying the field names and types.\\n\"\n",
    "        \"Once the form is verified, return a FormSpec object.\"\n",
    "    ),\n",
    "    result_type=FormSpec | str,  # type: ignore\n",
    ")"
   ]
  },
  {
   "cell_type": "code",
   "execution_count": 2,
   "metadata": {},
   "outputs": [],
   "source": [
    "class Form(BaseModel):\n",
    "    name: str\n",
    "    age: int\n",
    "    email: str\n",
    "\n",
    "\n",
    "agent = Agent(\n",
    "    model=\"google-gla:gemini-2.0-flash\",\n",
    "    name=\"form_filler\",\n",
    "    system_prompt=(\n",
    "        \"You are a form filler.\\nKeep asking the user for the information until the form is filled out.\\n\"\n",
    "    ),\n",
    ")"
   ]
  },
  {
   "cell_type": "code",
   "execution_count": 3,
   "metadata": {},
   "outputs": [
    {
     "name": "stdout",
     "output_type": "stream",
     "text": [
      "Fill out the form: {'properties': {'name': {'title': 'Name', 'type': 'string'}, 'age': {'title': 'Age', 'type': 'integer'}, 'email': {'title': 'Email', 'type': 'string'}}, 'required': ['name', 'age', 'email'], 'title': 'Form', 'type': 'object'}\n"
     ]
    }
   ],
   "source": [
    "user_prompt = f\"Fill out the form: {Form.model_json_schema()}\"\n",
    "print(user_prompt)"
   ]
  },
  {
   "cell_type": "code",
   "execution_count": 4,
   "metadata": {},
   "outputs": [],
   "source": [
    "message_history = None\n",
    "while True:\n",
    "    res = await agent.run(user_prompt=user_prompt, result_type=Form | str, message_history=message_history)\n",
    "    if isinstance(res.data, str):\n",
    "        user_prompt = input(res.data)\n",
    "    else:\n",
    "        break\n",
    "    message_history = res.all_messages()"
   ]
  },
  {
   "cell_type": "code",
   "execution_count": 5,
   "metadata": {},
   "outputs": [
    {
     "data": {
      "text/plain": [
       "Form(name='hamza', age=29, email='hamza@gmail.com')"
      ]
     },
     "execution_count": 5,
     "metadata": {},
     "output_type": "execute_result"
    }
   ],
   "source": [
    "res.data"
   ]
  },
  {
   "cell_type": "code",
   "execution_count": null,
   "metadata": {},
   "outputs": [],
   "source": []
  },
  {
   "cell_type": "code",
   "execution_count": null,
   "metadata": {},
   "outputs": [],
   "source": []
  },
  {
   "cell_type": "code",
   "execution_count": null,
   "metadata": {},
   "outputs": [],
   "source": []
  }
 ],
 "metadata": {
  "kernelspec": {
   "display_name": ".venv",
   "language": "python",
   "name": "python3"
  },
  "language_info": {
   "codemirror_mode": {
    "name": "ipython",
    "version": 3
   },
   "file_extension": ".py",
   "mimetype": "text/x-python",
   "name": "python",
   "nbconvert_exporter": "python",
   "pygments_lexer": "ipython3",
   "version": "3.12.7"
  }
 },
 "nbformat": 4,
 "nbformat_minor": 2
}
