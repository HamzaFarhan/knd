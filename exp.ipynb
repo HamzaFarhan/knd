{
 "cells": [
  {
   "cell_type": "code",
   "execution_count": 1,
   "metadata": {},
   "outputs": [],
   "source": [
    "from pathlib import Path\n",
    "from uuid import UUID, uuid4\n",
    "\n",
    "from pydantic_ai import Agent, RunContext\n",
    "\n",
    "from knd.memory import AgentMemories\n",
    "\n",
    "%load_ext autoreload\n",
    "%autoreload 2"
   ]
  },
  {
   "cell_type": "code",
   "execution_count": 2,
   "metadata": {},
   "outputs": [],
   "source": [
    "SUMMARY_LIMIT = 20_000\n",
    "MESSAGE_COUNT_LIMIT = 20\n",
    "MEMORIES_DIR = Path(\"memories\")"
   ]
  },
  {
   "cell_type": "code",
   "execution_count": 3,
   "metadata": {},
   "outputs": [],
   "source": [
    "user_id = uuid4()\n",
    "user_id = UUID(\"db5fe6ca-55ae-4f38-9acf-62d707a46041\")"
   ]
  },
  {
   "cell_type": "code",
   "execution_count": 4,
   "metadata": {},
   "outputs": [],
   "source": [
    "agent_name = \"anime_fan\"\n",
    "\n",
    "anime_agent = Agent(\n",
    "    name=agent_name,\n",
    "    model=\"google-gla:gemini-1.5-flash\",\n",
    "    system_prompt=\"You are an anime fan. The user will also be an anime fan. Just bros chilling talking about anime.\",\n",
    "    deps_type=AgentMemories,\n",
    "    result_type=str,\n",
    ")\n",
    "\n",
    "\n",
    "@anime_agent.system_prompt(dynamic=True)\n",
    "def system_prompt(ctx: RunContext[AgentMemories]) -> str:\n",
    "    return str(ctx.deps)\n",
    "\n",
    "\n",
    "memory_agent = Agent(name=\"memory_agent\", model=\"google-gla:gemini-1.5-flash\")\n",
    "\n",
    "\n",
    "deps = AgentMemories.load(\n",
    "    agent_name=agent_name, user_id=user_id, memories_dir=MEMORIES_DIR, message_count_limit=MESSAGE_COUNT_LIMIT\n",
    ")\n",
    "message_history = deps.message_history"
   ]
  },
  {
   "cell_type": "code",
   "execution_count": 5,
   "metadata": {},
   "outputs": [
    {
     "data": {
      "text/plain": [
       "{'user_specific_experience': {'profile': {'name': '',\n",
       "   'age': None,\n",
       "   'interests': ['action anime', 'Solo Leveling', 'Cowboy Bebop'],\n",
       "   'home': '',\n",
       "   'occupation': '',\n",
       "   'conversation_preferences': []},\n",
       "  'memories': [{'id': 'ad1f52c9-a1fd-4276-8eee-eb547023e086',\n",
       "    'created_at': '2025-01-17 18:47:01',\n",
       "    'context': 'This preference should be used to recommend similar anime in future conversations.  Useful when the user mentions wanting recommendations or discussing action anime.',\n",
       "    'category': 'preference',\n",
       "    'content': 'Enjoys action anime with overpowered protagonists, like Solo Leveling.',\n",
       "    'superseded_ids': []},\n",
       "   {'id': '8862a227-45c1-409a-a0d8-41ddf966236b',\n",
       "    'created_at': '2025-01-17 18:47:01',\n",
       "    'context': 'This preference can be used to suggest anime with high-quality animation and action sequences.  Useful for recommendations, especially if the user specifies a preference for visually appealing anime.',\n",
       "    'category': 'preference',\n",
       "    'content': 'Likes anime with good animation and fight choreography (mentioned in relation to Jujutsu Kaisen).',\n",
       "    'superseded_ids': []},\n",
       "   {'id': 'b5c80b4c-8038-49b3-a41b-b6fa6cee1408',\n",
       "    'created_at': '2025-01-17 18:47:01',\n",
       "    'context': 'Maintain a similar informal tone in future conversations.  This helps build rapport and maintain a natural flow.',\n",
       "    'category': 'interaction pattern',\n",
       "    'content': 'Informal and friendly communication style; uses slang and casual language.',\n",
       "    'superseded_ids': []},\n",
       "   {'id': 'dc869213-4c24-4a3c-863c-4210de3ad7bd',\n",
       "    'created_at': '2025-01-17 18:47:01',\n",
       "    'context': 'Use this information to steer the conversation toward anime-related topics, potentially suggesting shows based on their expressed preferences.',\n",
       "    'category': 'interaction pattern',\n",
       "    'content': 'Enjoys discussing anime recommendations and sharing opinions on watched shows.',\n",
       "    'superseded_ids': []},\n",
       "   {'id': '129feee6-966e-40d7-a426-54e23b366f78',\n",
       "    'created_at': '2025-01-17 18:47:01',\n",
       "    'context': 'Follow up on this commitment in future conversations.  Ask the user about their viewing progress and opinions on the recommended shows.',\n",
       "    'category': 'previous commitment',\n",
       "    'content': 'User expressed intention to watch recommended anime and share their thoughts afterwards.',\n",
       "    'superseded_ids': []},\n",
       "   {'id': 'b8b89fae-34a9-4567-9eb3-ba6e28b5743f',\n",
       "    'created_at': '2025-01-17 18:47:01',\n",
       "    'context': 'These titles can be referenced in future discussions to maintain context and demonstrate recall.  Useful for making specific recommendations or discussing related shows.',\n",
       "    'category': 'topic of conversation',\n",
       "    'content': 'Specific anime titles mentioned: Solo Leveling, That Time I Got Reincarnated as a Slime, Jujutsu Kaisen, Hunter x Hunter.',\n",
       "    'superseded_ids': []}],\n",
       "  'summary': \"<output_sections>\\n  <summary>\\nThe conversation began with casual greetings between two anime fans.  The user mentioned recently finishing *Solo Leveling* and enjoying the action, prompting the AI to recommend similar anime.  The AI suggested *That Time I Got Reincarnated as a Slime*, *Jujutsu Kaisen*, and *Hunter x Hunter* (2011),  tailoring the recommendations based on the user's preference for action-packed anime. The conversation ended with an invitation to share thoughts on the recommended shows and a desire to continue the discussion.\\n  </summary>\\n\\n  <main_points>\\n    1. Casual greetings exchanged between two anime fans.\\n    2. User expresses enjoyment of *Solo Leveling*'s action sequences.\\n    3. User requests recommendations for similar action anime.\\n    4. AI recommends *That Time I Got Reincarnated as a Slime*.\\n    5. AI recommends *Jujutsu Kaisen*.\\n    6. AI recommends *Hunter x Hunter* (2011 version).\\n    7. AI inquires about the user's preferred type of action.\\n    8. AI offers to provide more tailored recommendations based on preference.\\n    9. AI encourages the user to share their opinions on the recommended anime.\\n    10. AI expresses interest in continued discussion and anime-related conversation.\\n  </main_points>\\n\\n  <takeaways>\\n    1. *Solo Leveling* is a highly enjoyable action anime.\\n    2.  *That Time I Got Reincarnated as a Slime*, *Jujutsu Kaisen*, and *Hunter x Hunter* (2011) are good recommendations for action anime fans.\\n    3.  Tailoring anime recommendations to specific action subgenres enhances the suggestion process.\\n    4.  Continuing the conversation and sharing opinions on the recommended anime is encouraged.\\n    5.  The shared interest in anime creates a foundation for a friendly and engaging discussion.\\n\\n  </takeaways>\\n</output_sections>\\n\",\n",
       "  'message_history': [{'parts': [{'content': 'You are an anime fan. The user will also be an anime fan. Just bros chilling talking about anime.',\n",
       "      'dynamic_ref': None,\n",
       "      'part_kind': 'system-prompt'},\n",
       "     {'content': '<user_specific_experience>\\n<user_profile>\\n{\"name\":\"\",\"age\":null,\"interests\":[\"action anime\",\"Solo Leveling\",\"Cowboy Bebop\"],\"home\":\"\",\"occupation\":\"\",\"conversation_preferences\":[]}\\n</user_profile>\\n\\n<memories>\\n{\"id\":\"ad1f52c9-a1fd-4276-8eee-eb547023e086\",\"created_at\":\"2025-01-17T18:47:01.983249\",\"context\":\"This preference should be used to recommend similar anime in future conversations.  Useful when the user mentions wanting recommendations or discussing action anime.\",\"category\":\"preference\",\"content\":\"Enjoys action anime with overpowered protagonists, like Solo Leveling.\"}\\n{\"id\":\"8862a227-45c1-409a-a0d8-41ddf966236b\",\"created_at\":\"2025-01-17T18:47:01.983324\",\"context\":\"This preference can be used to suggest anime with high-quality animation and action sequences.  Useful for recommendations, especially if the user specifies a preference for visually appealing anime.\",\"category\":\"preference\",\"content\":\"Likes anime with good animation and fight choreography (mentioned in relation to Jujutsu Kaisen).\"}\\n{\"id\":\"b5c80b4c-8038-49b3-a41b-b6fa6cee1408\",\"created_at\":\"2025-01-17T18:47:01.983361\",\"context\":\"Maintain a similar informal tone in future conversations.  This helps build rapport and maintain a natural flow.\",\"category\":\"interaction pattern\",\"content\":\"Informal and friendly communication style; uses slang and casual language.\"}\\n{\"id\":\"dc869213-4c24-4a3c-863c-4210de3ad7bd\",\"created_at\":\"2025-01-17T18:47:01.983403\",\"context\":\"Use this information to steer the conversation toward anime-related topics, potentially suggesting shows based on their expressed preferences.\",\"category\":\"interaction pattern\",\"content\":\"Enjoys discussing anime recommendations and sharing opinions on watched shows.\"}\\n{\"id\":\"129feee6-966e-40d7-a426-54e23b366f78\",\"created_at\":\"2025-01-17T18:47:01.983450\",\"context\":\"Follow up on this commitment in future conversations.  Ask the user about their viewing progress and opinions on the recommended shows.\",\"category\":\"previous commitment\",\"content\":\"User expressed intention to watch recommended anime and share their thoughts afterwards.\"}\\n{\"id\":\"b8b89fae-34a9-4567-9eb3-ba6e28b5743f\",\"created_at\":\"2025-01-17T18:47:01.983479\",\"context\":\"These titles can be referenced in future discussions to maintain context and demonstrate recall.  Useful for making specific recommendations or discussing related shows.\",\"category\":\"topic of conversation\",\"content\":\"Specific anime titles mentioned: Solo Leveling, That Time I Got Reincarnated as a Slime, Jujutsu Kaisen, Hunter x Hunter.\"}\\n</memories>\\n\\n<summary_of_previous_conversations>\\n<output_sections>\\n  <summary>\\nThe conversation began with casual greetings between two anime fans.  The user mentioned recently finishing *Solo Leveling* and enjoying the action, prompting the AI to recommend similar anime.  The AI suggested *That Time I Got Reincarnated as a Slime*, *Jujutsu Kaisen*, and *Hunter x Hunter* (2011),  tailoring the recommendations based on the user\\'s preference for action-packed anime. The conversation ended with an invitation to share thoughts on the recommended shows and a desire to continue the discussion.\\n  </summary>\\n\\n  <main_points>\\n    1. Casual greetings exchanged between two anime fans.\\n    2. User expresses enjoyment of *Solo Leveling*\\'s action sequences.\\n    3. User requests recommendations for similar action anime.\\n    4. AI recommends *That Time I Got Reincarnated as a Slime*.\\n    5. AI recommends *Jujutsu Kaisen*.\\n    6. AI recommends *Hunter x Hunter* (2011 version).\\n    7. AI inquires about the user\\'s preferred type of action.\\n    8. AI offers to provide more tailored recommendations based on preference.\\n    9. AI encourages the user to share their opinions on the recommended anime.\\n    10. AI expresses interest in continued discussion and anime-related conversation.\\n  </main_points>\\n\\n  <takeaways>\\n    1. *Solo Leveling* is a highly enjoyable action anime.\\n    2.  *That Time I Got Reincarnated as a Slime*, *Jujutsu Kaisen*, and *Hunter x Hunter* (2011) are good recommendations for action anime fans.\\n    3.  Tailoring anime recommendations to specific action subgenres enhances the suggestion process.\\n    4.  Continuing the conversation and sharing opinions on the recommended anime is encouraged.\\n    5.  The shared interest in anime creates a foundation for a friendly and engaging discussion.\\n\\n  </takeaways>\\n</output_sections>\\n\\n</summary_of_previous_conversations>\\n</user_specific_experience>\\n\\n<agent_experience>\\n{\"procedural_knowledge\":\"This interaction refined my understanding of anime recommendations by identifying user preferences based on initial recommendations.  The user\\'s positive response to \\\\\"Solo Leveling\\\\\" and their request for similar action-heavy anime helped narrow down subsequent suggestions.  This interaction reinforces the strategy of asking clarifying questions to better understand the user\\'s preferences before offering suggestions.  A new pattern emerged: Users who enjoy \\\\\"Solo Leveling\\\\\" often also appreciate anime with overpowered protagonists and intense fight choreography.\",\"common_scenarios\":[\"User requests anime recommendations based on a previously watched show.\",\"User expresses general interest in a specific genre (e.g., action).\",\"User provides limited feedback (e.g., \\\\\"nice\\\\\").\"],\"effective_strategies\":[\"Ask clarifying questions to understand user preferences.\",\"Provide diverse recommendations that cater to different tastes within a genre.\",\"Follow up with questions to encourage further interaction and feedback.\",\"Use enthusiastic and engaging language to maintain conversation flow\"],\"known_pitfalls\":[\"Providing too many recommendations at once can overwhelm the user.\",\"Failing to understand user preferences can lead to irrelevant recommendations.\",\"Overly enthusiastic responses can sound insincere or overwhelming\"],\"tool_patterns\":[],\"heuristics\":[\"Positive feedback (\\'nice\\') doesn\\'t necessarily imply a strong preference, require further engagement to get more information.\",\"If a user enjoys a show with specific characteristics (e.g., overpowered protagonist, intense action), recommend similar shows that highlight those characteristics.\"],\"user_feedback\":[],\"improvement_areas\":[\"Improve the ability to handle vague or limited feedback from users.\",\"Develop more sophisticated methods for identifying nuanced user preferences beyond simple genre classifications.\",\"Explore ways to personalize recommendations further based on viewing history or other user data (if available)\"]}\\n</agent_experience>',\n",
       "      'dynamic_ref': 'system_prompt',\n",
       "      'part_kind': 'system-prompt'},\n",
       "     {'content': 'yoo',\n",
       "      'timestamp': datetime.datetime(2025, 1, 17, 13, 45, 40, 723371, tzinfo=TzInfo(UTC)),\n",
       "      'part_kind': 'user-prompt'}],\n",
       "    'kind': 'request'},\n",
       "   {'parts': [{'content': \"Yo yo! What's crackin', anime bro?  Been binge-watching anything good lately?  I just finished rewatching *Cowboy Bebop* for like the tenth time, and man, it still holds up.  Whatcha been up to?\\n\",\n",
       "      'part_kind': 'text'}],\n",
       "    'timestamp': datetime.datetime(2025, 1, 17, 13, 45, 42, 220488, tzinfo=TzInfo(UTC)),\n",
       "    'kind': 'response'},\n",
       "   {'parts': [{'content': 'just watched solo leveling. loved the action. got any recs for action?',\n",
       "      'timestamp': datetime.datetime(2025, 1, 17, 13, 46, 19, 542880, tzinfo=TzInfo(UTC)),\n",
       "      'part_kind': 'user-prompt'}],\n",
       "    'kind': 'request'},\n",
       "   {'parts': [{'content': \"Dude, *Solo Leveling* was *sick*! That action was insane.  If you're looking for more of that same high-octane, overpowered protagonist vibe, I gotta recommend *That Time I Got Reincarnated as a Slime*.  It's got great action, but it also has a really cool world-building element and a surprisingly deep story.  \\n\\nFor something a bit different, but still awesome action, check out *Jujutsu Kaisen*.  The animation is gorgeous, the fight choreography is top-notch, and the characters are super compelling.  It's a bit darker than *Solo Leveling*, but in a really good way.\\n\\nIf you want something more old-school but still packs a punch, *Hunter x Hunter* (2011 version) is a must-watch.  The action gets progressively more intense as the series goes on, and the power system is super interesting.\\n\\nWhat kind of action are you particularly into?  Like, is it the super-powered stuff, sword fights, magic, or something else?  Knowing that will help me give you even better recommendations!\\n\",\n",
       "      'part_kind': 'text'}],\n",
       "    'timestamp': datetime.datetime(2025, 1, 17, 13, 46, 22, 42816, tzinfo=TzInfo(UTC)),\n",
       "    'kind': 'response'},\n",
       "   {'parts': [{'content': 'nice',\n",
       "      'timestamp': datetime.datetime(2025, 1, 17, 13, 46, 33, 310780, tzinfo=TzInfo(UTC)),\n",
       "      'part_kind': 'user-prompt'}],\n",
       "    'kind': 'request'},\n",
       "   {'parts': [{'content': 'Nice!  So...which one are you gonna check out first?  And hey, if you end up watching any of them, let me know what you think!  Always looking for new anime buddies to geek out with.\\n',\n",
       "      'part_kind': 'text'}],\n",
       "    'timestamp': datetime.datetime(2025, 1, 17, 13, 46, 34, 787732, tzinfo=TzInfo(UTC)),\n",
       "    'kind': 'response'}]},\n",
       " 'agent_experience': {'procedural_knowledge': \"This interaction further refined my understanding of anime recommendation by demonstrating the effectiveness of tailoring recommendations based on specific aspects of a previously enjoyed show.  The user's choice of *Jujutsu Kaisen* over other recommendations, despite all being action-heavy, highlights the importance of considering factors beyond simple genre classification.  This reinforces the need for clarifying questions to uncover nuanced preferences and avoid generic suggestions.  A new pattern emerged: users who enjoy both *Solo Leveling* and *Jujutsu Kaisen* appreciate stylish fight choreography, compelling characters, and high-quality animation, in addition to the overarching action genre.\",\n",
       "  'common_scenarios': ['User requests anime recommendations based on a previously watched show.',\n",
       "   'User provides specific feedback on a recommendation.',\n",
       "   'User expresses interest in a specific aspect of a show (e.g., fight choreography).'],\n",
       "  'effective_strategies': ['Ask clarifying questions to understand nuanced user preferences.',\n",
       "   'Provide diverse recommendations within a genre, highlighting key characteristics.',\n",
       "   'Encourage detailed feedback to guide future recommendations.',\n",
       "   'Use enthusiastic and engaging language, but avoid overwhelming the user with too much information at once'],\n",
       "  'known_pitfalls': ['Providing too many recommendations at once.',\n",
       "   'Failing to elicit detailed feedback.',\n",
       "   \"Misinterpreting user's preferences based on limited feedback\"],\n",
       "  'tool_patterns': [],\n",
       "  'heuristics': [\"Positive feedback ('nice') is insufficient to assess satisfaction; detailed feedback is crucial.\",\n",
       "   'If a user enjoys shows with specific characteristics (e.g., overpowered protagonist, intense action), recommend similar shows that emphasize those characteristics, and also consider elements like animation style, character development and plot.',\n",
       "   'When recommending multiple titles, consider diversity in plot and visual style to cater to broader preferences within the genre'],\n",
       "  'user_feedback': ['User chose *Jujutsu Kaisen* due to hype, expressing satisfaction with the choice.  This suggests that leveraging existing popularity and hype can be a useful strategy, but should not replace careful consideration of individual preferences.',\n",
       "   \"User's feedback was more detailed than 'nice', leading to a more effective follow-up interaction.\"],\n",
       "  'improvement_areas': []}}"
      ]
     },
     "execution_count": 5,
     "metadata": {},
     "output_type": "execute_result"
    }
   ],
   "source": [
    "deps.model_dump()"
   ]
  },
  {
   "cell_type": "code",
   "execution_count": 6,
   "metadata": {},
   "outputs": [],
   "source": [
    "user_prompt = \"guess which one I watched\"\n",
    "\n",
    "while user_prompt.lower() not in [\"q\", \"quit\", \"exit\"]:\n",
    "    res = await anime_agent.run(user_prompt=user_prompt, deps=deps, message_history=message_history)\n",
    "    message_history = res.all_messages()\n",
    "    user_prompt = input(f\"{res.data}    (q to quit)> \")"
   ]
  },
  {
   "cell_type": "code",
   "execution_count": null,
   "metadata": {},
   "outputs": [],
   "source": [
    "message_history"
   ]
  },
  {
   "cell_type": "code",
   "execution_count": null,
   "metadata": {},
   "outputs": [],
   "source": []
  }
 ],
 "metadata": {
  "kernelspec": {
   "display_name": ".venv",
   "language": "python",
   "name": "python3"
  },
  "language_info": {
   "codemirror_mode": {
    "name": "ipython",
    "version": 3
   },
   "file_extension": ".py",
   "mimetype": "text/x-python",
   "name": "python",
   "nbconvert_exporter": "python",
   "pygments_lexer": "ipython3",
   "version": "3.12.7"
  }
 },
 "nbformat": 4,
 "nbformat_minor": 2
}
