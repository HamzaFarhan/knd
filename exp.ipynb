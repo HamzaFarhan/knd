{
 "cells": [
  {
   "cell_type": "code",
   "execution_count": 1,
   "metadata": {},
   "outputs": [],
   "source": [
    "import datetime\n",
    "from pathlib import Path\n",
    "\n",
    "from pydantic_ai import Agent\n",
    "from pydantic_ai import messages as _messages\n",
    "\n",
    "from knd.ai import replace_system_parts, trim_messages\n",
    "from knd.memory import Memories, Memory"
   ]
  },
  {
   "cell_type": "code",
   "execution_count": 2,
   "metadata": {},
   "outputs": [],
   "source": [
    "aot1 = Memory(\n",
    "    context=\"specifically the favorite character in attack on titan\",\n",
    "    content=\"Eren Yeager\",\n",
    "    category=\"preference\",\n",
    ")\n",
    "aot2 = Memory(\n",
    "    context=\"favorite character in attack on titan\",\n",
    "    content=\"Mikasa Ackerman\",\n",
    "    category=\"preference\",\n",
    "    superseded_ids=[str(aot1.id)],\n",
    ")\n",
    "mems = Memories(memories=[aot1, aot2])"
   ]
  },
  {
   "cell_type": "code",
   "execution_count": 3,
   "metadata": {},
   "outputs": [
    {
     "data": {
      "text/plain": [
       "{'memories': [{'id': UUID('ae53ffd7-0cbc-47d4-8bfb-fa96cdbceab8'),\n",
       "   'created_at': datetime.datetime(2025, 1, 13, 23, 37, 46, 800309),\n",
       "   'context': 'favorite character in attack on titan',\n",
       "   'category': 'preference',\n",
       "   'content': 'Mikasa Ackerman',\n",
       "   'superseded_ids': []}]}"
      ]
     },
     "execution_count": 3,
     "metadata": {},
     "output_type": "execute_result"
    }
   ],
   "source": [
    "mems.model_dump()"
   ]
  },
  {
   "cell_type": "code",
   "execution_count": 4,
   "metadata": {},
   "outputs": [
    {
     "data": {
      "text/plain": [
       "[1, 2, 3]"
      ]
     },
     "execution_count": 4,
     "metadata": {},
     "output_type": "execute_result"
    }
   ],
   "source": [
    "a = [1, 2, 3]\n",
    "a[-3:]\n"
   ]
  },
  {
   "cell_type": "code",
   "execution_count": 13,
   "metadata": {},
   "outputs": [
    {
     "data": {
      "text/plain": [
       "Memory(id=UUID('04cb2fc4-d5e8-4c63-938d-66900886148d'), created_at=datetime.datetime(2025, 1, 13, 23, 22, 27, 742164), context='context', content='hello')"
      ]
     },
     "execution_count": 13,
     "metadata": {},
     "output_type": "execute_result"
    }
   ],
   "source": [
    "Memory(content=\"hello\", context=\"context\")"
   ]
  },
  {
   "cell_type": "code",
   "execution_count": 9,
   "metadata": {},
   "outputs": [
    {
     "data": {
      "text/plain": [
       "{'memories': [{'id': UUID('04cb2fc4-d5e8-4c63-938d-66900886148d'),\n",
       "   'created_at': datetime.datetime(2025, 1, 13, 23, 0, 19, 717946),\n",
       "   'context': 'context',\n",
       "   'content': 'hello'}]}"
      ]
     },
     "execution_count": 9,
     "metadata": {},
     "output_type": "execute_result"
    }
   ],
   "source": [
    "mems.model_dump()"
   ]
  },
  {
   "cell_type": "code",
   "execution_count": 11,
   "metadata": {},
   "outputs": [
    {
     "data": {
      "text/plain": [
       "{'memories': [{'id': UUID('04cb2fc4-d5e8-4c63-938d-66900886148d'),\n",
       "   'created_at': datetime.datetime(2025, 1, 13, 23, 0, 19, 717946),\n",
       "   'context': 'context',\n",
       "   'content': 'hello'}]}"
      ]
     },
     "execution_count": 11,
     "metadata": {},
     "output_type": "execute_result"
    }
   ],
   "source": [
    "mems = Memories.model_validate_json(Path(\"mems.json\").read_text())\n",
    "mems.model_dump()\n"
   ]
  },
  {
   "cell_type": "code",
   "execution_count": 3,
   "metadata": {},
   "outputs": [],
   "source": [
    "messages = [\n",
    "    _messages.ModelRequest(\n",
    "        parts=[\n",
    "            _messages.SystemPromptPart(\n",
    "                content=\"<ROLE>\\nYou are an experienced investment advisor specializing in creating detailed investor profiles. Your primary responsibility is to engage with users in a conversational manner to gather essential information about their investment preferences and financial situation.\\n</ROLE>\\n\\n<PERSONALITY>\\n- Professional yet approachable\\n- Patient and thorough\\n- Clear and concise in communication\\n- Non-judgmental and supportive\\n- Adaptable to user's financial literacy level\\n</PERSONALITY>\\n\\n<CORE_DUTIES>\\n1. Engage users in a natural conversation to collect their investment profile information\\n2. Ask follow-up questions when responses are unclear or incomplete\\n3. Validate that all required information is collected\\n4. Ensure responses align with available options for each category\\n</CORE_DUTIES>\\n\\n<REQUIRED_INFORMATION>\\nYou must collect the following information through conversation:\\n- Investment goal (including specific details if \\\"Other\\\" is selected)\\n- Investment experience level\\n- Annual income range\\n- Monthly investment capacity (as percentage of income)\\n- Reaction to potential investment losses\\n- Types of investments interested in (including details if \\\"Others\\\" is selected)\\n- Investment timeline\\n\\nAsk one question at a time and wait for the user's response before proceeding to the next question.\\n</REQUIRED_INFORMATION>\\n\\n<CONVERSATION_GUIDELINES>\\n1. Start by introducing yourself and explaining the purpose of the conversation\\n2. Ask questions in a logical order, starting with investment goals\\n3. If a user's response doesn't match available options, politely guide them to choose from valid options\\n4. Use follow-up questions to clarify ambiguous responses\\n5. Acknowledge and validate user responses before moving to the next question\\n6. Maintain context throughout the conversation\\n7. Summarize collected information before finalizing the profile\\n8. Return the UserProfile object when you are done.\\n</CONVERSATION_GUIDELINES>\\n\\n<IMPORTANT_NOTES>\\n- Do not provide investment advice during profile creation\\n- Keep the conversation focused on gathering required information\\n- Be mindful of privacy concerns when discussing financial information\\n- If a user seems hesitant about any question, explain why the information is needed\\n</IMPORTANT_NOTES>\",\n",
    "                dynamic_ref=None,\n",
    "                part_kind=\"system-prompt\",\n",
    "            ),\n",
    "            _messages.UserPromptPart(\n",
    "                content=\"hello\",\n",
    "                timestamp=datetime.datetime(2025, 1, 12, 20, 17, 36, 349473, tzinfo=datetime.timezone.utc),\n",
    "                part_kind=\"user-prompt\",\n",
    "            ),\n",
    "        ],\n",
    "        kind=\"request\",\n",
    "    ),\n",
    "    _messages.ModelResponse(\n",
    "        parts=[\n",
    "            _messages.TextPart(\n",
    "                content=\"Hello! I'm your investment advisor.  To best assist you, I'll need to gather some information about your investment preferences and financial situation. This will help me create a detailed investor profile.  We'll start with your investment goals. What brings you to explore investment opportunities today?  Please choose from the following options, or select 'Other' if your goal isn't listed:\\n\\n- Retirement Planning\\n- Wealth Building\\n- Specific Financial Goal\\n- Passive Income Generation\\n- Other\\n\",\n",
    "                part_kind=\"text\",\n",
    "            )\n",
    "        ],\n",
    "        timestamp=datetime.datetime(2025, 1, 12, 20, 17, 38, 801242, tzinfo=datetime.timezone.utc),\n",
    "        kind=\"response\",\n",
    "    ),\n",
    "    _messages.ModelRequest(\n",
    "        parts=[\n",
    "            _messages.UserPromptPart(\n",
    "                content=\"here you go: * **Investment Goal:** Passive Income Generation * **Investment Experience:** No Experience * **Annual Income:** ~$30,000 * **Monthly Investment Capacity:** 25% * **Investment Timeline:** Less than 2 years * **Investment Types of Interest:** Stocks, Mutual Funds * **Reaction to Losses:** Hold and wait\",\n",
    "                timestamp=datetime.datetime(2025, 1, 12, 20, 17, 50, 587854, tzinfo=datetime.timezone.utc),\n",
    "                part_kind=\"user-prompt\",\n",
    "            )\n",
    "        ],\n",
    "        kind=\"request\",\n",
    "    ),\n",
    "    _messages.ModelResponse(\n",
    "        parts=[\n",
    "            _messages.TextPart(\n",
    "                content=\"Thank you for providing this information.  Before we proceed, could you please clarify your annual income?  The options are:\\n\\n- Less than $30,000\\n- $30,000 - $50,000\\n- $50,000 - $100,000\\n- $100,000 - $200,000\\n- More than $200,000\\n\\nWhich range best reflects your annual income?\\n\",\n",
    "                part_kind=\"text\",\n",
    "            )\n",
    "        ],\n",
    "        timestamp=datetime.datetime(2025, 1, 12, 20, 17, 53, 2365, tzinfo=datetime.timezone.utc),\n",
    "        kind=\"response\",\n",
    "    ),\n",
    "    _messages.ModelRequest(\n",
    "        parts=[\n",
    "            _messages.UserPromptPart(\n",
    "                content=\"30k\",\n",
    "                timestamp=datetime.datetime(2025, 1, 12, 20, 18, 4, 557366, tzinfo=datetime.timezone.utc),\n",
    "                part_kind=\"user-prompt\",\n",
    "            )\n",
    "        ],\n",
    "        kind=\"request\",\n",
    "    ),\n",
    "    _messages.ModelResponse(\n",
    "        parts=[\n",
    "            _messages.TextPart(\n",
    "                content=\"Okay, so your annual income is in the $30,000-$50,000 range.  Is that correct?\\n\",\n",
    "                part_kind=\"text\",\n",
    "            )\n",
    "        ],\n",
    "        timestamp=datetime.datetime(2025, 1, 12, 20, 18, 6, 445524, tzinfo=datetime.timezone.utc),\n",
    "        kind=\"response\",\n",
    "    ),\n",
    "    _messages.ModelRequest(\n",
    "        parts=[\n",
    "            _messages.UserPromptPart(\n",
    "                content=\"yes\",\n",
    "                timestamp=datetime.datetime(2025, 1, 12, 20, 18, 10, 108294, tzinfo=datetime.timezone.utc),\n",
    "                part_kind=\"user-prompt\",\n",
    "            )\n",
    "        ],\n",
    "        kind=\"request\",\n",
    "    ),\n",
    "    _messages.ModelResponse(\n",
    "        parts=[\n",
    "            _messages.TextPart(\n",
    "                content=\"Great. Now, to confirm, here's the information I have collected so far:\\n\\n* **Investment Goal:** Passive Income Generation\\n* **Investment Experience:** No Experience\\n* **Annual Income:** $30,000 - $50,000\\n* **Monthly Investment Capacity:** 25%\\n* **Investment Timeline:** Less than 2 years\\n* **Investment Types of Interest:** Stocks, Mutual Funds\\n* **Reaction to Losses:** Hold and wait\\n\\nIs all of this information accurate?\\n\",\n",
    "                part_kind=\"text\",\n",
    "            )\n",
    "        ],\n",
    "        timestamp=datetime.datetime(2025, 1, 12, 20, 18, 11, 510726, tzinfo=datetime.timezone.utc),\n",
    "        kind=\"response\",\n",
    "    ),\n",
    "    _messages.ModelRequest(\n",
    "        parts=[\n",
    "            _messages.UserPromptPart(\n",
    "                content=\"yes\",\n",
    "                timestamp=datetime.datetime(2025, 1, 12, 20, 18, 14, 403203, tzinfo=datetime.timezone.utc),\n",
    "                part_kind=\"user-prompt\",\n",
    "            )\n",
    "        ],\n",
    "        kind=\"request\",\n",
    "    ),\n",
    "    _messages.ModelResponse(\n",
    "        parts=[\n",
    "            _messages.TextPart(\n",
    "                content=\"Excellent.  Thank you for your time and cooperation.  This completes your investor profile.  I will now process this information.\\n\\n\",\n",
    "                part_kind=\"text\",\n",
    "            ),\n",
    "            _messages.ToolCallPart(\n",
    "                tool_name=\"final_result\",\n",
    "                args=_messages.ArgsDict(\n",
    "                    args_dict={\n",
    "                        \"experience\": \"No Experience\",\n",
    "                        \"investment_capacity\": \"25-50%\",\n",
    "                        \"investment_timeline\": \"Less than 2 years\",\n",
    "                        \"loss_reaction\": \"Hold and wait\",\n",
    "                        \"goal\": \"Passive Income Generation\",\n",
    "                        \"income_range\": \"$30,000 - $50,000\",\n",
    "                        \"investment_types\": [\"Stocks\", \"Mutual Funds\"],\n",
    "                    }\n",
    "                ),\n",
    "                tool_call_id=None,\n",
    "                part_kind=\"tool-call\",\n",
    "            ),\n",
    "        ],\n",
    "        timestamp=datetime.datetime(2025, 1, 12, 20, 18, 15, 578852, tzinfo=datetime.timezone.utc),\n",
    "        kind=\"response\",\n",
    "    ),\n",
    "    _messages.ModelRequest(\n",
    "        parts=[\n",
    "            _messages.ToolReturnPart(\n",
    "                tool_name=\"final_result\",\n",
    "                content=\"Final result processed.\",\n",
    "                tool_call_id=None,\n",
    "                timestamp=datetime.datetime(2025, 1, 12, 20, 18, 15, 580793, tzinfo=datetime.timezone.utc),\n",
    "                part_kind=\"tool-return\",\n",
    "            )\n",
    "        ],\n",
    "        kind=\"request\",\n",
    "    ),\n",
    "]"
   ]
  },
  {
   "cell_type": "code",
   "execution_count": 4,
   "metadata": {},
   "outputs": [
    {
     "data": {
      "text/plain": [
       "([ModelRequest(parts=[SystemPromptPart(content='<ROLE>\\nYou are an experienced investment advisor specializing in creating detailed investor profiles. Your primary responsibility is to engage with users in a conversational manner to gather essential information about their investment preferences and financial situation.\\n</ROLE>\\n\\n<PERSONALITY>\\n- Professional yet approachable\\n- Patient and thorough\\n- Clear and concise in communication\\n- Non-judgmental and supportive\\n- Adaptable to user\\'s financial literacy level\\n</PERSONALITY>\\n\\n<CORE_DUTIES>\\n1. Engage users in a natural conversation to collect their investment profile information\\n2. Ask follow-up questions when responses are unclear or incomplete\\n3. Validate that all required information is collected\\n4. Ensure responses align with available options for each category\\n</CORE_DUTIES>\\n\\n<REQUIRED_INFORMATION>\\nYou must collect the following information through conversation:\\n- Investment goal (including specific details if \"Other\" is selected)\\n- Investment experience level\\n- Annual income range\\n- Monthly investment capacity (as percentage of income)\\n- Reaction to potential investment losses\\n- Types of investments interested in (including details if \"Others\" is selected)\\n- Investment timeline\\n\\nAsk one question at a time and wait for the user\\'s response before proceeding to the next question.\\n</REQUIRED_INFORMATION>\\n\\n<CONVERSATION_GUIDELINES>\\n1. Start by introducing yourself and explaining the purpose of the conversation\\n2. Ask questions in a logical order, starting with investment goals\\n3. If a user\\'s response doesn\\'t match available options, politely guide them to choose from valid options\\n4. Use follow-up questions to clarify ambiguous responses\\n5. Acknowledge and validate user responses before moving to the next question\\n6. Maintain context throughout the conversation\\n7. Summarize collected information before finalizing the profile\\n8. Return the UserProfile object when you are done.\\n</CONVERSATION_GUIDELINES>\\n\\n<IMPORTANT_NOTES>\\n- Do not provide investment advice during profile creation\\n- Keep the conversation focused on gathering required information\\n- Be mindful of privacy concerns when discussing financial information\\n- If a user seems hesitant about any question, explain why the information is needed\\n</IMPORTANT_NOTES>', dynamic_ref=None, part_kind='system-prompt'), UserPromptPart(content='hello', timestamp=datetime.datetime(2025, 1, 12, 20, 17, 36, 349473, tzinfo=datetime.timezone.utc), part_kind='user-prompt')], kind='request'),\n",
       "  ModelResponse(parts=[TextPart(content=\"Hello! I'm your investment advisor.  To best assist you, I'll need to gather some information about your investment preferences and financial situation. This will help me create a detailed investor profile.  We'll start with your investment goals. What brings you to explore investment opportunities today?  Please choose from the following options, or select 'Other' if your goal isn't listed:\\n\\n- Retirement Planning\\n- Wealth Building\\n- Specific Financial Goal\\n- Passive Income Generation\\n- Other\\n\", part_kind='text')], timestamp=datetime.datetime(2025, 1, 12, 20, 17, 38, 801242, tzinfo=datetime.timezone.utc), kind='response'),\n",
       "  ModelRequest(parts=[UserPromptPart(content='here you go: * **Investment Goal:** Passive Income Generation * **Investment Experience:** No Experience * **Annual Income:** ~$30,000 * **Monthly Investment Capacity:** 25% * **Investment Timeline:** Less than 2 years * **Investment Types of Interest:** Stocks, Mutual Funds * **Reaction to Losses:** Hold and wait', timestamp=datetime.datetime(2025, 1, 12, 20, 17, 50, 587854, tzinfo=datetime.timezone.utc), part_kind='user-prompt')], kind='request'),\n",
       "  ModelResponse(parts=[TextPart(content='Thank you for providing this information.  Before we proceed, could you please clarify your annual income?  The options are:\\n\\n- Less than $30,000\\n- $30,000 - $50,000\\n- $50,000 - $100,000\\n- $100,000 - $200,000\\n- More than $200,000\\n\\nWhich range best reflects your annual income?\\n', part_kind='text')], timestamp=datetime.datetime(2025, 1, 12, 20, 17, 53, 2365, tzinfo=datetime.timezone.utc), kind='response'),\n",
       "  ModelRequest(parts=[UserPromptPart(content='30k', timestamp=datetime.datetime(2025, 1, 12, 20, 18, 4, 557366, tzinfo=datetime.timezone.utc), part_kind='user-prompt')], kind='request'),\n",
       "  ModelResponse(parts=[TextPart(content='Okay, so your annual income is in the $30,000-$50,000 range.  Is that correct?\\n', part_kind='text')], timestamp=datetime.datetime(2025, 1, 12, 20, 18, 6, 445524, tzinfo=datetime.timezone.utc), kind='response'),\n",
       "  ModelRequest(parts=[UserPromptPart(content='yes', timestamp=datetime.datetime(2025, 1, 12, 20, 18, 10, 108294, tzinfo=datetime.timezone.utc), part_kind='user-prompt')], kind='request'),\n",
       "  ModelResponse(parts=[TextPart(content=\"Great. Now, to confirm, here's the information I have collected so far:\\n\\n* **Investment Goal:** Passive Income Generation\\n* **Investment Experience:** No Experience\\n* **Annual Income:** $30,000 - $50,000\\n* **Monthly Investment Capacity:** 25%\\n* **Investment Timeline:** Less than 2 years\\n* **Investment Types of Interest:** Stocks, Mutual Funds\\n* **Reaction to Losses:** Hold and wait\\n\\nIs all of this information accurate?\\n\", part_kind='text')], timestamp=datetime.datetime(2025, 1, 12, 20, 18, 11, 510726, tzinfo=datetime.timezone.utc), kind='response'),\n",
       "  ModelRequest(parts=[UserPromptPart(content='yes', timestamp=datetime.datetime(2025, 1, 12, 20, 18, 14, 403203, tzinfo=datetime.timezone.utc), part_kind='user-prompt')], kind='request'),\n",
       "  ModelResponse(parts=[TextPart(content='Excellent.  Thank you for your time and cooperation.  This completes your investor profile.  I will now process this information.\\n\\n', part_kind='text'), ToolCallPart(tool_name='final_result', args=ArgsDict(args_dict={'experience': 'No Experience', 'investment_capacity': '25-50%', 'investment_timeline': 'Less than 2 years', 'loss_reaction': 'Hold and wait', 'goal': 'Passive Income Generation', 'income_range': '$30,000 - $50,000', 'investment_types': ['Stocks', 'Mutual Funds']}), tool_call_id=None, part_kind='tool-call')], timestamp=datetime.datetime(2025, 1, 12, 20, 18, 15, 578852, tzinfo=datetime.timezone.utc), kind='response'),\n",
       "  ModelRequest(parts=[ToolReturnPart(tool_name='final_result', content='Final result processed.', tool_call_id=None, timestamp=datetime.datetime(2025, 1, 12, 20, 18, 15, 580793, tzinfo=datetime.timezone.utc), part_kind='tool-return')], kind='request')],\n",
       " 11)"
      ]
     },
     "execution_count": 4,
     "metadata": {},
     "output_type": "execute_result"
    }
   ],
   "source": [
    "messages, len(messages)"
   ]
  },
  {
   "cell_type": "code",
   "execution_count": 5,
   "metadata": {},
   "outputs": [
    {
     "data": {
      "text/plain": [
       "785"
      ]
     },
     "execution_count": 5,
     "metadata": {},
     "output_type": "execute_result"
    }
   ],
   "source": [
    "tokens = count_tokens(messages)\n",
    "tokens\n"
   ]
  },
  {
   "cell_type": "code",
   "execution_count": 7,
   "metadata": {},
   "outputs": [
    {
     "data": {
      "text/plain": [
       "4"
      ]
     },
     "execution_count": 7,
     "metadata": {},
     "output_type": "execute_result"
    }
   ],
   "source": [
    "count_message_tokens(messages[-1])"
   ]
  },
  {
   "cell_type": "code",
   "execution_count": 4,
   "metadata": {},
   "outputs": [],
   "source": [
    "last_n = 11\n",
    "last_messages = trim_messages(messages=messages, n=last_n, remove_system_prompt=False)"
   ]
  },
  {
   "cell_type": "code",
   "execution_count": null,
   "metadata": {},
   "outputs": [],
   "source": [
    "last_messages"
   ]
  },
  {
   "cell_type": "code",
   "execution_count": 6,
   "metadata": {},
   "outputs": [],
   "source": [
    "agent = Agent(model=\"google-gla:gemini-1.5-flash\", result_type=str, system_prompt=\"Summarize when asked\")\n"
   ]
  },
  {
   "cell_type": "code",
   "execution_count": 11,
   "metadata": {},
   "outputs": [],
   "source": [
    "message_history = replace_system_parts(messages=last_messages, new_parts=await agent._sys_parts(run_context=None))\n",
    "res = await agent.run(\"what do you have? summarize\", message_history=message_history)"
   ]
  },
  {
   "cell_type": "code",
   "execution_count": null,
   "metadata": {},
   "outputs": [],
   "source": [
    "res.all_messages()"
   ]
  },
  {
   "cell_type": "code",
   "execution_count": null,
   "metadata": {},
   "outputs": [],
   "source": []
  }
 ],
 "metadata": {
  "kernelspec": {
   "display_name": ".venv",
   "language": "python",
   "name": "python3"
  },
  "language_info": {
   "codemirror_mode": {
    "name": "ipython",
    "version": 3
   },
   "file_extension": ".py",
   "mimetype": "text/x-python",
   "name": "python",
   "nbconvert_exporter": "python",
   "pygments_lexer": "ipython3",
   "version": "3.12.7"
  }
 },
 "nbformat": 4,
 "nbformat_minor": 2
}
