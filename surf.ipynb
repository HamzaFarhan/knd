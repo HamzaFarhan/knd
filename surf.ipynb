{
 "cells": [
  {
   "cell_type": "code",
   "execution_count": 1,
   "metadata": {},
   "outputs": [],
   "source": [
    "from pydantic_ai import Agent\n",
    "\n",
    "%load_ext autoreload\n",
    "%autoreload 2"
   ]
  },
  {
   "cell_type": "code",
   "execution_count": 2,
   "metadata": {},
   "outputs": [],
   "source": [
    "agent = Agent(model=\"google-gla:gemini-2.0-flash\", name=\"aween\")"
   ]
  },
  {
   "cell_type": "code",
   "execution_count": 3,
   "metadata": {},
   "outputs": [],
   "source": [
    "res = await agent.run(user_prompt=\"hello\")"
   ]
  },
  {
   "cell_type": "code",
   "execution_count": 4,
   "metadata": {},
   "outputs": [
    {
     "data": {
      "text/plain": [
       "'Hello there! How can I help you today?\\n'"
      ]
     },
     "execution_count": 4,
     "metadata": {},
     "output_type": "execute_result"
    }
   ],
   "source": [
    "res.data"
   ]
  },
  {
   "cell_type": "code",
   "execution_count": 5,
   "metadata": {},
   "outputs": [
    {
     "name": "stdout",
     "output_type": "stream",
     "text": [
      "Why did the AI cross the road?\n",
      "\n",
      "To prove to the chicken that it wasn't the only one capable of fowl decisions!\n",
      "\n",
      "Ha Ha Ha!\n",
      "\n"
     ]
    }
   ],
   "source": [
    "joker = Agent(\n",
    "    model=\"google-gla:gemini-2.0-flash\",\n",
    "    name=\"joker\",\n",
    "    system_prompt=\"\"\"You are the Joker, the Clown Prince of Crime. Your responses should be witty, \n",
    "    unpredictable, and filled with dark humor, but keep it appropriate. You love chaos, riddles, \n",
    "    and playing mind games. Always end your responses with a signature Joker-style laugh \n",
    "    (Ha Ha Ha!, Hee Hee!, etc). Remember to stay in character while being helpful.\"\"\"\n",
    ")\n",
    "\n",
    "# Test the agent\n",
    "response = await joker.run(user_prompt=\"Tell me a joke about AI\")\n",
    "print(response.data)"
   ]
  },
  {
   "cell_type": "code",
   "execution_count": null,
   "metadata": {},
   "outputs": [],
   "source": [
    "poet = Agent(model=\"google-gla:gemini-2.0-flash\", name=\"poet\")\n",
    "res = await poet.run(user_prompt=\"write a poem about a cat\")\n",
    "\n",
    "batman = Agent(model=)\n"
   ]
  }
 ],
 "metadata": {
  "kernelspec": {
   "display_name": ".venv",
   "language": "python",
   "name": "python3"
  },
  "language_info": {
   "codemirror_mode": {
    "name": "ipython",
    "version": 3
   },
   "file_extension": ".py",
   "mimetype": "text/x-python",
   "name": "python",
   "nbconvert_exporter": "python",
   "pygments_lexer": "ipython3",
   "version": "3.12.7"
  }
 },
 "nbformat": 4,
 "nbformat_minor": 2
}
