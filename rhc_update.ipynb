{
 "cells": [
  {
   "cell_type": "code",
   "execution_count": 12,
   "metadata": {},
   "outputs": [
    {
     "name": "stdout",
     "output_type": "stream",
     "text": [
      "The autoreload extension is already loaded. To reload it, use:\n",
      "  %reload_ext autoreload\n"
     ]
    }
   ],
   "source": [
    "from dataclasses import dataclass\n",
    "\n",
    "from pydantic import BaseModel, Field\n",
    "from pydantic_ai import Agent, RunContext\n",
    "\n",
    "%load_ext autoreload\n",
    "%autoreload 2"
   ]
  },
  {
   "cell_type": "code",
   "execution_count": 13,
   "metadata": {},
   "outputs": [],
   "source": [
    "class Education(BaseModel):\n",
    "    academic_degrees: list[str] = Field(description=\"List of relevant academic degrees\")\n",
    "    accreditations: list[str] = Field(\n",
    "        default_factory=list, description=\"List of accreditations from PEC or recognized bodies\"\n",
    "    )\n",
    "    weightage: float = Field(default=0.15, description=\"Weightage percentage between 10-15%\")\n",
    "\n",
    "\n",
    "class ProfessionalExperience(BaseModel):\n",
    "    total_years: int = Field(description=\"Total years of experience in relevant field\")\n",
    "    project_experience: list[str] = Field(description=\"Specific project-related experience matching project scope\")\n",
    "    leadership_roles: list[str] = Field(description=\"Experience in leadership positions\")\n",
    "    weightage: float = Field(default=0.3, description=\"Weightage percentage between 25-30%\")\n",
    "\n",
    "\n",
    "class PECRegistration(BaseModel):\n",
    "    registration_type: str = Field(description=\"Type of PEC registration (PE/RE)\")\n",
    "    certifications: list[str] = Field(description=\"Additional professional certifications\")\n",
    "    weightage: float = Field(default=0.1, description=\"Weightage percentage between 5-10%\")\n",
    "\n",
    "\n",
    "class ProjectExperience(BaseModel):\n",
    "    similar_projects: list[str] = Field(description=\"Experience in similar projects\")\n",
    "    completed_projects: int = Field(description=\"Number of completed projects\")\n",
    "    project_scale: list[str] = Field(description=\"Scale of completed projects\")\n",
    "    weightage: float = Field(default=0.25, description=\"Weightage percentage between 20-25%\")\n",
    "\n",
    "\n",
    "class Training(BaseModel):\n",
    "    professional_training: list[str] = Field(description=\"Professional training and workshops\")\n",
    "    cpd_points: int = Field(description=\"CPD points as per PEC requirements\")\n",
    "    weightage: float = Field(default=0.05, description=\"Weightage percentage between 2.5-5%\")\n",
    "\n",
    "\n",
    "class Publications(BaseModel):\n",
    "    publications: list[str] = Field(description=\"Relevant publications and technical papers\")\n",
    "    research_work: list[str] = Field(description=\"Research work in relevant field\")\n",
    "    weightage: float = Field(default=0.05, description=\"Weightage percentage between 2.5-5%\")\n",
    "\n",
    "\n",
    "class CVEvaluationCriteria(BaseModel):\n",
    "    education: Education\n",
    "    professional_experience: ProfessionalExperience\n",
    "    pec_registration: PECRegistration\n",
    "    project_experience: ProjectExperience\n",
    "    training: Training\n",
    "    publications: Publications | None = None\n",
    "\n",
    "\n",
    "@dataclass\n",
    "class RFP:\n",
    "    datasheet: str\n",
    "    terms_of_reference: str\n",
    "\n",
    "    def __str__(self) -> str:\n",
    "        return (\n",
    "            f\"\\n<RFP>\\n\\n\"\n",
    "            f\"<datasheet>\\n{self.datasheet}\\n</datasheet>\\n\\n\"\n",
    "            f\"<terms_of_reference>\\n{self.terms_of_reference}\\n</terms_of_reference>\\n\\n\"\n",
    "            f\"</RFP>\"\n",
    "        )\n"
   ]
  },
  {
   "cell_type": "code",
   "execution_count": null,
   "metadata": {},
   "outputs": [],
   "source": [
    "criteria_agent = Agent(\n",
    "    \"openai:gpt-4o-mini\",\n",
    "    result_type=CVEvaluationCriteria,\n",
    "    system_prompt=(\n",
    "        \"You are an expert in evaluating engineering CVs and RFPs. Your task is to analyze the RFP's datasheet \"\n",
    "        \"and terms of reference to extract specific evaluation criteria for CVs based on the company's requirements.\\n\\n\"\n",
    "        \"For each category, carefully review the datasheet and terms of reference to:\\n\"\n",
    "        \"1. Identify required qualifications, experience, and credentials explicitly mentioned\\n\"\n",
    "        \"2. Determine appropriate weightage within the specified ranges based on emphasis in the documents\\n\"\n",
    "        \"3. List specific requirements that align with the project scope and deliverables\\n\\n\"\n",
    "        \"Pay special attention to:\\n\"\n",
    "        \"- Minimum qualification requirements in the datasheet\\n\"\n",
    "        \"- Years of experience specified in the terms of reference\\n\"\n",
    "        \"- Specific technical expertise required for deliverables\\n\"\n",
    "        \"- Any mandatory certifications or registrations\\n\\n\"\n",
    "        \"Ensure all weightages sum to 100% and stay within their specified ranges:\\n\"\n",
    "        \"- Education & Qualification: 10-15%\\n\"\n",
    "        \"- Professional Experience: 25-30%\\n\"\n",
    "        \"- PEC Registration & Certifications: 5-10%\\n\"\n",
    "        \"- Relevant Project Experience: 20-25%\\n\"\n",
    "        \"- Training & CPD: 2.5-5%\\n\"\n",
    "        \"- Publications & Research: 2.5-5%\\n\\n\"\n",
    "        \"Return a structured response matching the required format.\"\n",
    "    ),\n",
    "    deps_type=RFP,\n",
    ")\n",
    "\n",
    "\n",
    "@criteria_agent.system_prompt(dynamic=True)\n",
    "def system_prompt(ctx: RunContext[RFP]) -> str:\n",
    "    return str(ctx.deps)\n"
   ]
  },
  {
   "cell_type": "code",
   "execution_count": null,
   "metadata": {},
   "outputs": [],
   "source": []
  }
 ],
 "metadata": {
  "kernelspec": {
   "display_name": ".venv",
   "language": "python",
   "name": "python3"
  },
  "language_info": {
   "codemirror_mode": {
    "name": "ipython",
    "version": 3
   },
   "file_extension": ".py",
   "mimetype": "text/x-python",
   "name": "python",
   "nbconvert_exporter": "python",
   "pygments_lexer": "ipython3",
   "version": "3.12.7"
  }
 },
 "nbformat": 4,
 "nbformat_minor": 2
}
